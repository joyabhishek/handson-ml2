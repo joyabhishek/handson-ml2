{
 "cells": [
  {
   "cell_type": "markdown",
   "id": "17405082",
   "metadata": {},
   "source": [
    "# 1. Frame the Problem\n",
    "\n",
    "## Q. How does the company expect to use and benefit from this model? \n",
    "NOTE: This is important because it will determine how you frame the problem, what algorithms you will select, what performance measure you will use to evaluate your model, and how much effort you should spend tweaking it\n",
    "\n",
    "### A. My company is NYC99Acres.com. It helps selling properties. This will help putting a sale price of the property, based on the trends observed. So that its not too much that people wont buy and so less that we wont make any profit."
   ]
  },
  {
   "cell_type": "markdown",
   "id": "9e22c448",
   "metadata": {},
   "source": [
    "## Q. The next question to ask is what the current solution looks like (if any). \n",
    "NOTE: It will often give you a reference performance, as well as insights on how to solve the problem\n",
    "\n",
    "### A. Currently it is done manually by some experts. This is costly and time-consuming. And their estimates are often off by 20%. The NYC sales data looks great and we can exploit for our purpose."
   ]
  },
  {
   "cell_type": "markdown",
   "id": "e7755782",
   "metadata": {},
   "source": [
    "## Q. Is it supervised, unsupervised, or Reinforcement Learning? \n",
    "\n",
    "### A. Supervised\n",
    "\n",
    "## Q. Is it a classification task, a regression task, or something else? \n",
    "\n",
    "### A. Regression\n",
    "\n",
    "## Q. Should you use batch learning or online learning techniques? \n",
    "\n",
    "### A. Batch learning. As the data is not changing drastically. If wee see a huge change with time we will think of online."
   ]
  },
  {
   "cell_type": "markdown",
   "id": "36a44d98",
   "metadata": {},
   "source": [
    "## Q. What should be the performance measure ?\n",
    "\n",
    "NOTE: The higher the norm index, the more it focuses on large values and neglects small ones. This is why the RMSE is more sensitive to outliers than the MAE. But when outliers are exponentially rare (like in a bell-shaped curve), the RMSE performs very well and is generally preferred.\n",
    "\n",
    "### *A. Based on the viewing data we will decide for this.*"
   ]
  },
  {
   "cell_type": "markdown",
   "id": "5dfb9839",
   "metadata": {},
   "source": [
    "# 2. Get the data"
   ]
  },
  {
   "cell_type": "code",
   "execution_count": 1,
   "id": "db4fd648",
   "metadata": {},
   "outputs": [],
   "source": [
    "import pandas as pd\n",
    "import numpy as np\n",
    "import matplotlib.pyplot as plt"
   ]
  },
  {
   "cell_type": "markdown",
   "id": "d9af7b30",
   "metadata": {},
   "source": [
    "Data: https://www.kaggle.com/new-york-city/nyc-property-sales"
   ]
  },
  {
   "cell_type": "code",
   "execution_count": 2,
   "id": "05ebf152",
   "metadata": {},
   "outputs": [],
   "source": [
    "df = pd.read_csv(\"./Datasets/nyc-rolling-sales.csv\")"
   ]
  },
  {
   "cell_type": "code",
   "execution_count": 3,
   "id": "9b5c14ff",
   "metadata": {
    "scrolled": true
   },
   "outputs": [
    {
     "data": {
      "text/html": [
       "<div>\n",
       "<style scoped>\n",
       "    .dataframe tbody tr th:only-of-type {\n",
       "        vertical-align: middle;\n",
       "    }\n",
       "\n",
       "    .dataframe tbody tr th {\n",
       "        vertical-align: top;\n",
       "    }\n",
       "\n",
       "    .dataframe thead th {\n",
       "        text-align: right;\n",
       "    }\n",
       "</style>\n",
       "<table border=\"1\" class=\"dataframe\">\n",
       "  <thead>\n",
       "    <tr style=\"text-align: right;\">\n",
       "      <th></th>\n",
       "      <th>Unnamed: 0</th>\n",
       "      <th>BOROUGH</th>\n",
       "      <th>NEIGHBORHOOD</th>\n",
       "      <th>BUILDING CLASS CATEGORY</th>\n",
       "      <th>TAX CLASS AT PRESENT</th>\n",
       "      <th>BLOCK</th>\n",
       "      <th>LOT</th>\n",
       "      <th>EASE-MENT</th>\n",
       "      <th>BUILDING CLASS AT PRESENT</th>\n",
       "      <th>ADDRESS</th>\n",
       "      <th>...</th>\n",
       "      <th>RESIDENTIAL UNITS</th>\n",
       "      <th>COMMERCIAL UNITS</th>\n",
       "      <th>TOTAL UNITS</th>\n",
       "      <th>LAND SQUARE FEET</th>\n",
       "      <th>GROSS SQUARE FEET</th>\n",
       "      <th>YEAR BUILT</th>\n",
       "      <th>TAX CLASS AT TIME OF SALE</th>\n",
       "      <th>BUILDING CLASS AT TIME OF SALE</th>\n",
       "      <th>SALE PRICE</th>\n",
       "      <th>SALE DATE</th>\n",
       "    </tr>\n",
       "  </thead>\n",
       "  <tbody>\n",
       "    <tr>\n",
       "      <th>0</th>\n",
       "      <td>4</td>\n",
       "      <td>1</td>\n",
       "      <td>ALPHABET CITY</td>\n",
       "      <td>07 RENTALS - WALKUP APARTMENTS</td>\n",
       "      <td>2A</td>\n",
       "      <td>392</td>\n",
       "      <td>6</td>\n",
       "      <td></td>\n",
       "      <td>C2</td>\n",
       "      <td>153 AVENUE B</td>\n",
       "      <td>...</td>\n",
       "      <td>5</td>\n",
       "      <td>0</td>\n",
       "      <td>5</td>\n",
       "      <td>1633</td>\n",
       "      <td>6440</td>\n",
       "      <td>1900</td>\n",
       "      <td>2</td>\n",
       "      <td>C2</td>\n",
       "      <td>6625000</td>\n",
       "      <td>2017-07-19 00:00:00</td>\n",
       "    </tr>\n",
       "    <tr>\n",
       "      <th>1</th>\n",
       "      <td>5</td>\n",
       "      <td>1</td>\n",
       "      <td>ALPHABET CITY</td>\n",
       "      <td>07 RENTALS - WALKUP APARTMENTS</td>\n",
       "      <td>2</td>\n",
       "      <td>399</td>\n",
       "      <td>26</td>\n",
       "      <td></td>\n",
       "      <td>C7</td>\n",
       "      <td>234 EAST 4TH   STREET</td>\n",
       "      <td>...</td>\n",
       "      <td>28</td>\n",
       "      <td>3</td>\n",
       "      <td>31</td>\n",
       "      <td>4616</td>\n",
       "      <td>18690</td>\n",
       "      <td>1900</td>\n",
       "      <td>2</td>\n",
       "      <td>C7</td>\n",
       "      <td>-</td>\n",
       "      <td>2016-12-14 00:00:00</td>\n",
       "    </tr>\n",
       "    <tr>\n",
       "      <th>2</th>\n",
       "      <td>6</td>\n",
       "      <td>1</td>\n",
       "      <td>ALPHABET CITY</td>\n",
       "      <td>07 RENTALS - WALKUP APARTMENTS</td>\n",
       "      <td>2</td>\n",
       "      <td>399</td>\n",
       "      <td>39</td>\n",
       "      <td></td>\n",
       "      <td>C7</td>\n",
       "      <td>197 EAST 3RD   STREET</td>\n",
       "      <td>...</td>\n",
       "      <td>16</td>\n",
       "      <td>1</td>\n",
       "      <td>17</td>\n",
       "      <td>2212</td>\n",
       "      <td>7803</td>\n",
       "      <td>1900</td>\n",
       "      <td>2</td>\n",
       "      <td>C7</td>\n",
       "      <td>-</td>\n",
       "      <td>2016-12-09 00:00:00</td>\n",
       "    </tr>\n",
       "    <tr>\n",
       "      <th>3</th>\n",
       "      <td>7</td>\n",
       "      <td>1</td>\n",
       "      <td>ALPHABET CITY</td>\n",
       "      <td>07 RENTALS - WALKUP APARTMENTS</td>\n",
       "      <td>2B</td>\n",
       "      <td>402</td>\n",
       "      <td>21</td>\n",
       "      <td></td>\n",
       "      <td>C4</td>\n",
       "      <td>154 EAST 7TH STREET</td>\n",
       "      <td>...</td>\n",
       "      <td>10</td>\n",
       "      <td>0</td>\n",
       "      <td>10</td>\n",
       "      <td>2272</td>\n",
       "      <td>6794</td>\n",
       "      <td>1913</td>\n",
       "      <td>2</td>\n",
       "      <td>C4</td>\n",
       "      <td>3936272</td>\n",
       "      <td>2016-09-23 00:00:00</td>\n",
       "    </tr>\n",
       "    <tr>\n",
       "      <th>4</th>\n",
       "      <td>8</td>\n",
       "      <td>1</td>\n",
       "      <td>ALPHABET CITY</td>\n",
       "      <td>07 RENTALS - WALKUP APARTMENTS</td>\n",
       "      <td>2A</td>\n",
       "      <td>404</td>\n",
       "      <td>55</td>\n",
       "      <td></td>\n",
       "      <td>C2</td>\n",
       "      <td>301 EAST 10TH   STREET</td>\n",
       "      <td>...</td>\n",
       "      <td>6</td>\n",
       "      <td>0</td>\n",
       "      <td>6</td>\n",
       "      <td>2369</td>\n",
       "      <td>4615</td>\n",
       "      <td>1900</td>\n",
       "      <td>2</td>\n",
       "      <td>C2</td>\n",
       "      <td>8000000</td>\n",
       "      <td>2016-11-17 00:00:00</td>\n",
       "    </tr>\n",
       "  </tbody>\n",
       "</table>\n",
       "<p>5 rows × 22 columns</p>\n",
       "</div>"
      ],
      "text/plain": [
       "   Unnamed: 0  BOROUGH   NEIGHBORHOOD  \\\n",
       "0           4        1  ALPHABET CITY   \n",
       "1           5        1  ALPHABET CITY   \n",
       "2           6        1  ALPHABET CITY   \n",
       "3           7        1  ALPHABET CITY   \n",
       "4           8        1  ALPHABET CITY   \n",
       "\n",
       "                       BUILDING CLASS CATEGORY TAX CLASS AT PRESENT  BLOCK  \\\n",
       "0  07 RENTALS - WALKUP APARTMENTS                                2A    392   \n",
       "1  07 RENTALS - WALKUP APARTMENTS                                 2    399   \n",
       "2  07 RENTALS - WALKUP APARTMENTS                                 2    399   \n",
       "3  07 RENTALS - WALKUP APARTMENTS                                2B    402   \n",
       "4  07 RENTALS - WALKUP APARTMENTS                                2A    404   \n",
       "\n",
       "   LOT EASE-MENT BUILDING CLASS AT PRESENT                 ADDRESS  ...  \\\n",
       "0    6                                  C2            153 AVENUE B  ...   \n",
       "1   26                                  C7   234 EAST 4TH   STREET  ...   \n",
       "2   39                                  C7   197 EAST 3RD   STREET  ...   \n",
       "3   21                                  C4     154 EAST 7TH STREET  ...   \n",
       "4   55                                  C2  301 EAST 10TH   STREET  ...   \n",
       "\n",
       "  RESIDENTIAL UNITS  COMMERCIAL UNITS  TOTAL UNITS  LAND SQUARE FEET  \\\n",
       "0                 5                 0            5              1633   \n",
       "1                28                 3           31              4616   \n",
       "2                16                 1           17              2212   \n",
       "3                10                 0           10              2272   \n",
       "4                 6                 0            6              2369   \n",
       "\n",
       "   GROSS SQUARE FEET YEAR BUILT TAX CLASS AT TIME OF SALE  \\\n",
       "0               6440       1900                         2   \n",
       "1              18690       1900                         2   \n",
       "2               7803       1900                         2   \n",
       "3               6794       1913                         2   \n",
       "4               4615       1900                         2   \n",
       "\n",
       "   BUILDING CLASS AT TIME OF SALE  SALE PRICE            SALE DATE  \n",
       "0                              C2     6625000  2017-07-19 00:00:00  \n",
       "1                              C7         -    2016-12-14 00:00:00  \n",
       "2                              C7         -    2016-12-09 00:00:00  \n",
       "3                              C4     3936272  2016-09-23 00:00:00  \n",
       "4                              C2     8000000  2016-11-17 00:00:00  \n",
       "\n",
       "[5 rows x 22 columns]"
      ]
     },
     "execution_count": 3,
     "metadata": {},
     "output_type": "execute_result"
    }
   ],
   "source": [
    "df.head()"
   ]
  },
  {
   "cell_type": "code",
   "execution_count": 4,
   "id": "c0d9ce26",
   "metadata": {},
   "outputs": [
    {
     "name": "stdout",
     "output_type": "stream",
     "text": [
      "Unnamed: 0\n",
      "BOROUGH\n",
      "NEIGHBORHOOD\n",
      "BUILDING CLASS CATEGORY\n",
      "TAX CLASS AT PRESENT\n",
      "BLOCK\n",
      "LOT\n",
      "EASE-MENT\n",
      "BUILDING CLASS AT PRESENT\n",
      "ADDRESS\n",
      "APARTMENT NUMBER\n",
      "ZIP CODE\n",
      "RESIDENTIAL UNITS\n",
      "COMMERCIAL UNITS\n",
      "TOTAL UNITS\n",
      "LAND SQUARE FEET\n",
      "GROSS SQUARE FEET\n",
      "YEAR BUILT\n",
      "TAX CLASS AT TIME OF SALE\n",
      "BUILDING CLASS AT TIME OF SALE\n",
      "SALE PRICE\n",
      "SALE DATE\n"
     ]
    },
    {
     "data": {
      "text/plain": [
       "[None,\n",
       " None,\n",
       " None,\n",
       " None,\n",
       " None,\n",
       " None,\n",
       " None,\n",
       " None,\n",
       " None,\n",
       " None,\n",
       " None,\n",
       " None,\n",
       " None,\n",
       " None,\n",
       " None,\n",
       " None,\n",
       " None,\n",
       " None,\n",
       " None,\n",
       " None,\n",
       " None,\n",
       " None]"
      ]
     },
     "execution_count": 4,
     "metadata": {},
     "output_type": "execute_result"
    }
   ],
   "source": [
    "[print(i) for i in df.columns]"
   ]
  },
  {
   "cell_type": "code",
   "execution_count": 5,
   "id": "3bb7a233",
   "metadata": {
    "scrolled": true
   },
   "outputs": [
    {
     "data": {
      "text/html": [
       "<div>\n",
       "<style scoped>\n",
       "    .dataframe tbody tr th:only-of-type {\n",
       "        vertical-align: middle;\n",
       "    }\n",
       "\n",
       "    .dataframe tbody tr th {\n",
       "        vertical-align: top;\n",
       "    }\n",
       "\n",
       "    .dataframe thead th {\n",
       "        text-align: right;\n",
       "    }\n",
       "</style>\n",
       "<table border=\"1\" class=\"dataframe\">\n",
       "  <thead>\n",
       "    <tr style=\"text-align: right;\">\n",
       "      <th></th>\n",
       "      <th>BOROUGH</th>\n",
       "      <th>NEIGHBORHOOD</th>\n",
       "      <th>BUILDING CLASS CATEGORY</th>\n",
       "      <th>TAX CLASS AT PRESENT</th>\n",
       "      <th>BLOCK</th>\n",
       "      <th>LOT</th>\n",
       "      <th>EASE-MENT</th>\n",
       "      <th>BUILDING CLASS AT PRESENT</th>\n",
       "      <th>ADDRESS</th>\n",
       "      <th>APARTMENT NUMBER</th>\n",
       "      <th>...</th>\n",
       "      <th>RESIDENTIAL UNITS</th>\n",
       "      <th>COMMERCIAL UNITS</th>\n",
       "      <th>TOTAL UNITS</th>\n",
       "      <th>LAND SQUARE FEET</th>\n",
       "      <th>GROSS SQUARE FEET</th>\n",
       "      <th>YEAR BUILT</th>\n",
       "      <th>TAX CLASS AT TIME OF SALE</th>\n",
       "      <th>BUILDING CLASS AT TIME OF SALE</th>\n",
       "      <th>SALE PRICE</th>\n",
       "      <th>SALE DATE</th>\n",
       "    </tr>\n",
       "  </thead>\n",
       "  <tbody>\n",
       "    <tr>\n",
       "      <th>0</th>\n",
       "      <td>1</td>\n",
       "      <td>ALPHABET CITY</td>\n",
       "      <td>07 RENTALS - WALKUP APARTMENTS</td>\n",
       "      <td>2A</td>\n",
       "      <td>392</td>\n",
       "      <td>6</td>\n",
       "      <td></td>\n",
       "      <td>C2</td>\n",
       "      <td>153 AVENUE B</td>\n",
       "      <td></td>\n",
       "      <td>...</td>\n",
       "      <td>5</td>\n",
       "      <td>0</td>\n",
       "      <td>5</td>\n",
       "      <td>1633</td>\n",
       "      <td>6440</td>\n",
       "      <td>1900</td>\n",
       "      <td>2</td>\n",
       "      <td>C2</td>\n",
       "      <td>6625000</td>\n",
       "      <td>2017-07-19 00:00:00</td>\n",
       "    </tr>\n",
       "    <tr>\n",
       "      <th>1</th>\n",
       "      <td>1</td>\n",
       "      <td>ALPHABET CITY</td>\n",
       "      <td>07 RENTALS - WALKUP APARTMENTS</td>\n",
       "      <td>2</td>\n",
       "      <td>399</td>\n",
       "      <td>26</td>\n",
       "      <td></td>\n",
       "      <td>C7</td>\n",
       "      <td>234 EAST 4TH   STREET</td>\n",
       "      <td></td>\n",
       "      <td>...</td>\n",
       "      <td>28</td>\n",
       "      <td>3</td>\n",
       "      <td>31</td>\n",
       "      <td>4616</td>\n",
       "      <td>18690</td>\n",
       "      <td>1900</td>\n",
       "      <td>2</td>\n",
       "      <td>C7</td>\n",
       "      <td>-</td>\n",
       "      <td>2016-12-14 00:00:00</td>\n",
       "    </tr>\n",
       "    <tr>\n",
       "      <th>2</th>\n",
       "      <td>1</td>\n",
       "      <td>ALPHABET CITY</td>\n",
       "      <td>07 RENTALS - WALKUP APARTMENTS</td>\n",
       "      <td>2</td>\n",
       "      <td>399</td>\n",
       "      <td>39</td>\n",
       "      <td></td>\n",
       "      <td>C7</td>\n",
       "      <td>197 EAST 3RD   STREET</td>\n",
       "      <td></td>\n",
       "      <td>...</td>\n",
       "      <td>16</td>\n",
       "      <td>1</td>\n",
       "      <td>17</td>\n",
       "      <td>2212</td>\n",
       "      <td>7803</td>\n",
       "      <td>1900</td>\n",
       "      <td>2</td>\n",
       "      <td>C7</td>\n",
       "      <td>-</td>\n",
       "      <td>2016-12-09 00:00:00</td>\n",
       "    </tr>\n",
       "    <tr>\n",
       "      <th>3</th>\n",
       "      <td>1</td>\n",
       "      <td>ALPHABET CITY</td>\n",
       "      <td>07 RENTALS - WALKUP APARTMENTS</td>\n",
       "      <td>2B</td>\n",
       "      <td>402</td>\n",
       "      <td>21</td>\n",
       "      <td></td>\n",
       "      <td>C4</td>\n",
       "      <td>154 EAST 7TH STREET</td>\n",
       "      <td></td>\n",
       "      <td>...</td>\n",
       "      <td>10</td>\n",
       "      <td>0</td>\n",
       "      <td>10</td>\n",
       "      <td>2272</td>\n",
       "      <td>6794</td>\n",
       "      <td>1913</td>\n",
       "      <td>2</td>\n",
       "      <td>C4</td>\n",
       "      <td>3936272</td>\n",
       "      <td>2016-09-23 00:00:00</td>\n",
       "    </tr>\n",
       "    <tr>\n",
       "      <th>4</th>\n",
       "      <td>1</td>\n",
       "      <td>ALPHABET CITY</td>\n",
       "      <td>07 RENTALS - WALKUP APARTMENTS</td>\n",
       "      <td>2A</td>\n",
       "      <td>404</td>\n",
       "      <td>55</td>\n",
       "      <td></td>\n",
       "      <td>C2</td>\n",
       "      <td>301 EAST 10TH   STREET</td>\n",
       "      <td></td>\n",
       "      <td>...</td>\n",
       "      <td>6</td>\n",
       "      <td>0</td>\n",
       "      <td>6</td>\n",
       "      <td>2369</td>\n",
       "      <td>4615</td>\n",
       "      <td>1900</td>\n",
       "      <td>2</td>\n",
       "      <td>C2</td>\n",
       "      <td>8000000</td>\n",
       "      <td>2016-11-17 00:00:00</td>\n",
       "    </tr>\n",
       "    <tr>\n",
       "      <th>...</th>\n",
       "      <td>...</td>\n",
       "      <td>...</td>\n",
       "      <td>...</td>\n",
       "      <td>...</td>\n",
       "      <td>...</td>\n",
       "      <td>...</td>\n",
       "      <td>...</td>\n",
       "      <td>...</td>\n",
       "      <td>...</td>\n",
       "      <td>...</td>\n",
       "      <td>...</td>\n",
       "      <td>...</td>\n",
       "      <td>...</td>\n",
       "      <td>...</td>\n",
       "      <td>...</td>\n",
       "      <td>...</td>\n",
       "      <td>...</td>\n",
       "      <td>...</td>\n",
       "      <td>...</td>\n",
       "      <td>...</td>\n",
       "      <td>...</td>\n",
       "    </tr>\n",
       "    <tr>\n",
       "      <th>84543</th>\n",
       "      <td>5</td>\n",
       "      <td>WOODROW</td>\n",
       "      <td>02 TWO FAMILY DWELLINGS</td>\n",
       "      <td>1</td>\n",
       "      <td>7349</td>\n",
       "      <td>34</td>\n",
       "      <td></td>\n",
       "      <td>B9</td>\n",
       "      <td>37 QUAIL LANE</td>\n",
       "      <td></td>\n",
       "      <td>...</td>\n",
       "      <td>2</td>\n",
       "      <td>0</td>\n",
       "      <td>2</td>\n",
       "      <td>2400</td>\n",
       "      <td>2575</td>\n",
       "      <td>1998</td>\n",
       "      <td>1</td>\n",
       "      <td>B9</td>\n",
       "      <td>450000</td>\n",
       "      <td>2016-11-28 00:00:00</td>\n",
       "    </tr>\n",
       "    <tr>\n",
       "      <th>84544</th>\n",
       "      <td>5</td>\n",
       "      <td>WOODROW</td>\n",
       "      <td>02 TWO FAMILY DWELLINGS</td>\n",
       "      <td>1</td>\n",
       "      <td>7349</td>\n",
       "      <td>78</td>\n",
       "      <td></td>\n",
       "      <td>B9</td>\n",
       "      <td>32 PHEASANT LANE</td>\n",
       "      <td></td>\n",
       "      <td>...</td>\n",
       "      <td>2</td>\n",
       "      <td>0</td>\n",
       "      <td>2</td>\n",
       "      <td>2498</td>\n",
       "      <td>2377</td>\n",
       "      <td>1998</td>\n",
       "      <td>1</td>\n",
       "      <td>B9</td>\n",
       "      <td>550000</td>\n",
       "      <td>2017-04-21 00:00:00</td>\n",
       "    </tr>\n",
       "    <tr>\n",
       "      <th>84545</th>\n",
       "      <td>5</td>\n",
       "      <td>WOODROW</td>\n",
       "      <td>02 TWO FAMILY DWELLINGS</td>\n",
       "      <td>1</td>\n",
       "      <td>7351</td>\n",
       "      <td>60</td>\n",
       "      <td></td>\n",
       "      <td>B2</td>\n",
       "      <td>49 PITNEY AVENUE</td>\n",
       "      <td></td>\n",
       "      <td>...</td>\n",
       "      <td>2</td>\n",
       "      <td>0</td>\n",
       "      <td>2</td>\n",
       "      <td>4000</td>\n",
       "      <td>1496</td>\n",
       "      <td>1925</td>\n",
       "      <td>1</td>\n",
       "      <td>B2</td>\n",
       "      <td>460000</td>\n",
       "      <td>2017-07-05 00:00:00</td>\n",
       "    </tr>\n",
       "    <tr>\n",
       "      <th>84546</th>\n",
       "      <td>5</td>\n",
       "      <td>WOODROW</td>\n",
       "      <td>22 STORE BUILDINGS</td>\n",
       "      <td>4</td>\n",
       "      <td>7100</td>\n",
       "      <td>28</td>\n",
       "      <td></td>\n",
       "      <td>K6</td>\n",
       "      <td>2730 ARTHUR KILL ROAD</td>\n",
       "      <td></td>\n",
       "      <td>...</td>\n",
       "      <td>0</td>\n",
       "      <td>7</td>\n",
       "      <td>7</td>\n",
       "      <td>208033</td>\n",
       "      <td>64117</td>\n",
       "      <td>2001</td>\n",
       "      <td>4</td>\n",
       "      <td>K6</td>\n",
       "      <td>11693337</td>\n",
       "      <td>2016-12-21 00:00:00</td>\n",
       "    </tr>\n",
       "    <tr>\n",
       "      <th>84547</th>\n",
       "      <td>5</td>\n",
       "      <td>WOODROW</td>\n",
       "      <td>35 INDOOR PUBLIC AND CULTURAL FACILITIES</td>\n",
       "      <td>4</td>\n",
       "      <td>7105</td>\n",
       "      <td>679</td>\n",
       "      <td></td>\n",
       "      <td>P9</td>\n",
       "      <td>155 CLAY PIT ROAD</td>\n",
       "      <td></td>\n",
       "      <td>...</td>\n",
       "      <td>0</td>\n",
       "      <td>1</td>\n",
       "      <td>1</td>\n",
       "      <td>10796</td>\n",
       "      <td>2400</td>\n",
       "      <td>2006</td>\n",
       "      <td>4</td>\n",
       "      <td>P9</td>\n",
       "      <td>69300</td>\n",
       "      <td>2016-10-27 00:00:00</td>\n",
       "    </tr>\n",
       "  </tbody>\n",
       "</table>\n",
       "<p>84548 rows × 21 columns</p>\n",
       "</div>"
      ],
      "text/plain": [
       "       BOROUGH   NEIGHBORHOOD                      BUILDING CLASS CATEGORY  \\\n",
       "0            1  ALPHABET CITY  07 RENTALS - WALKUP APARTMENTS                \n",
       "1            1  ALPHABET CITY  07 RENTALS - WALKUP APARTMENTS                \n",
       "2            1  ALPHABET CITY  07 RENTALS - WALKUP APARTMENTS                \n",
       "3            1  ALPHABET CITY  07 RENTALS - WALKUP APARTMENTS                \n",
       "4            1  ALPHABET CITY  07 RENTALS - WALKUP APARTMENTS                \n",
       "...        ...            ...                                          ...   \n",
       "84543        5        WOODROW  02 TWO FAMILY DWELLINGS                       \n",
       "84544        5        WOODROW  02 TWO FAMILY DWELLINGS                       \n",
       "84545        5        WOODROW  02 TWO FAMILY DWELLINGS                       \n",
       "84546        5        WOODROW  22 STORE BUILDINGS                            \n",
       "84547        5        WOODROW  35 INDOOR PUBLIC AND CULTURAL FACILITIES      \n",
       "\n",
       "      TAX CLASS AT PRESENT  BLOCK  LOT EASE-MENT BUILDING CLASS AT PRESENT  \\\n",
       "0                       2A    392    6                                  C2   \n",
       "1                        2    399   26                                  C7   \n",
       "2                        2    399   39                                  C7   \n",
       "3                       2B    402   21                                  C4   \n",
       "4                       2A    404   55                                  C2   \n",
       "...                    ...    ...  ...       ...                       ...   \n",
       "84543                    1   7349   34                                  B9   \n",
       "84544                    1   7349   78                                  B9   \n",
       "84545                    1   7351   60                                  B2   \n",
       "84546                    4   7100   28                                  K6   \n",
       "84547                    4   7105  679                                  P9   \n",
       "\n",
       "                      ADDRESS APARTMENT NUMBER  ...  RESIDENTIAL UNITS  \\\n",
       "0                153 AVENUE B                   ...                  5   \n",
       "1       234 EAST 4TH   STREET                   ...                 28   \n",
       "2       197 EAST 3RD   STREET                   ...                 16   \n",
       "3         154 EAST 7TH STREET                   ...                 10   \n",
       "4      301 EAST 10TH   STREET                   ...                  6   \n",
       "...                       ...              ...  ...                ...   \n",
       "84543           37 QUAIL LANE                   ...                  2   \n",
       "84544        32 PHEASANT LANE                   ...                  2   \n",
       "84545        49 PITNEY AVENUE                   ...                  2   \n",
       "84546   2730 ARTHUR KILL ROAD                   ...                  0   \n",
       "84547       155 CLAY PIT ROAD                   ...                  0   \n",
       "\n",
       "       COMMERCIAL UNITS  TOTAL UNITS  LAND SQUARE FEET GROSS SQUARE FEET  \\\n",
       "0                     0            5              1633              6440   \n",
       "1                     3           31              4616             18690   \n",
       "2                     1           17              2212              7803   \n",
       "3                     0           10              2272              6794   \n",
       "4                     0            6              2369              4615   \n",
       "...                 ...          ...               ...               ...   \n",
       "84543                 0            2              2400              2575   \n",
       "84544                 0            2              2498              2377   \n",
       "84545                 0            2              4000              1496   \n",
       "84546                 7            7            208033             64117   \n",
       "84547                 1            1             10796              2400   \n",
       "\n",
       "      YEAR BUILT  TAX CLASS AT TIME OF SALE  BUILDING CLASS AT TIME OF SALE  \\\n",
       "0           1900                          2                              C2   \n",
       "1           1900                          2                              C7   \n",
       "2           1900                          2                              C7   \n",
       "3           1913                          2                              C4   \n",
       "4           1900                          2                              C2   \n",
       "...          ...                        ...                             ...   \n",
       "84543       1998                          1                              B9   \n",
       "84544       1998                          1                              B9   \n",
       "84545       1925                          1                              B2   \n",
       "84546       2001                          4                              K6   \n",
       "84547       2006                          4                              P9   \n",
       "\n",
       "      SALE PRICE            SALE DATE  \n",
       "0        6625000  2017-07-19 00:00:00  \n",
       "1            -    2016-12-14 00:00:00  \n",
       "2            -    2016-12-09 00:00:00  \n",
       "3        3936272  2016-09-23 00:00:00  \n",
       "4        8000000  2016-11-17 00:00:00  \n",
       "...          ...                  ...  \n",
       "84543     450000  2016-11-28 00:00:00  \n",
       "84544     550000  2017-04-21 00:00:00  \n",
       "84545     460000  2017-07-05 00:00:00  \n",
       "84546   11693337  2016-12-21 00:00:00  \n",
       "84547      69300  2016-10-27 00:00:00  \n",
       "\n",
       "[84548 rows x 21 columns]"
      ]
     },
     "execution_count": 5,
     "metadata": {},
     "output_type": "execute_result"
    }
   ],
   "source": [
    "df=df.drop([\"Unnamed: 0\"], axis=1)\n",
    "df"
   ]
  },
  {
   "cell_type": "code",
   "execution_count": 6,
   "id": "da787546",
   "metadata": {
    "scrolled": true
   },
   "outputs": [
    {
     "data": {
      "text/html": [
       "<div>\n",
       "<style scoped>\n",
       "    .dataframe tbody tr th:only-of-type {\n",
       "        vertical-align: middle;\n",
       "    }\n",
       "\n",
       "    .dataframe tbody tr th {\n",
       "        vertical-align: top;\n",
       "    }\n",
       "\n",
       "    .dataframe thead th {\n",
       "        text-align: right;\n",
       "    }\n",
       "</style>\n",
       "<table border=\"1\" class=\"dataframe\">\n",
       "  <thead>\n",
       "    <tr style=\"text-align: right;\">\n",
       "      <th></th>\n",
       "      <th>BOROUGH</th>\n",
       "      <th>NEIGHBORHOOD</th>\n",
       "      <th>BUILDING CLASS CATEGORY</th>\n",
       "      <th>TAX CLASS AT PRESENT</th>\n",
       "      <th>BLOCK</th>\n",
       "      <th>LOT</th>\n",
       "      <th>EASE-MENT</th>\n",
       "      <th>BUILDING CLASS AT PRESENT</th>\n",
       "      <th>ADDRESS</th>\n",
       "      <th>APARTMENT NUMBER</th>\n",
       "      <th>...</th>\n",
       "      <th>RESIDENTIAL UNITS</th>\n",
       "      <th>COMMERCIAL UNITS</th>\n",
       "      <th>TOTAL UNITS</th>\n",
       "      <th>LAND SQUARE FEET</th>\n",
       "      <th>GROSS SQUARE FEET</th>\n",
       "      <th>YEAR BUILT</th>\n",
       "      <th>TAX CLASS AT TIME OF SALE</th>\n",
       "      <th>BUILDING CLASS AT TIME OF SALE</th>\n",
       "      <th>SALE PRICE</th>\n",
       "      <th>SALE DATE</th>\n",
       "    </tr>\n",
       "  </thead>\n",
       "  <tbody>\n",
       "    <tr>\n",
       "      <th>0</th>\n",
       "      <td>1</td>\n",
       "      <td>ALPHABET CITY</td>\n",
       "      <td>07 RENTALS - WALKUP APARTMENTS</td>\n",
       "      <td>2A</td>\n",
       "      <td>392</td>\n",
       "      <td>6</td>\n",
       "      <td></td>\n",
       "      <td>C2</td>\n",
       "      <td>153 AVENUE B</td>\n",
       "      <td></td>\n",
       "      <td>...</td>\n",
       "      <td>5</td>\n",
       "      <td>0</td>\n",
       "      <td>5</td>\n",
       "      <td>1633</td>\n",
       "      <td>6440</td>\n",
       "      <td>1900</td>\n",
       "      <td>2</td>\n",
       "      <td>C2</td>\n",
       "      <td>6625000</td>\n",
       "      <td>2017-07-19 00:00:00</td>\n",
       "    </tr>\n",
       "    <tr>\n",
       "      <th>1</th>\n",
       "      <td>1</td>\n",
       "      <td>ALPHABET CITY</td>\n",
       "      <td>07 RENTALS - WALKUP APARTMENTS</td>\n",
       "      <td>2</td>\n",
       "      <td>399</td>\n",
       "      <td>26</td>\n",
       "      <td></td>\n",
       "      <td>C7</td>\n",
       "      <td>234 EAST 4TH   STREET</td>\n",
       "      <td></td>\n",
       "      <td>...</td>\n",
       "      <td>28</td>\n",
       "      <td>3</td>\n",
       "      <td>31</td>\n",
       "      <td>4616</td>\n",
       "      <td>18690</td>\n",
       "      <td>1900</td>\n",
       "      <td>2</td>\n",
       "      <td>C7</td>\n",
       "      <td>-</td>\n",
       "      <td>2016-12-14 00:00:00</td>\n",
       "    </tr>\n",
       "    <tr>\n",
       "      <th>2</th>\n",
       "      <td>1</td>\n",
       "      <td>ALPHABET CITY</td>\n",
       "      <td>07 RENTALS - WALKUP APARTMENTS</td>\n",
       "      <td>2</td>\n",
       "      <td>399</td>\n",
       "      <td>39</td>\n",
       "      <td></td>\n",
       "      <td>C7</td>\n",
       "      <td>197 EAST 3RD   STREET</td>\n",
       "      <td></td>\n",
       "      <td>...</td>\n",
       "      <td>16</td>\n",
       "      <td>1</td>\n",
       "      <td>17</td>\n",
       "      <td>2212</td>\n",
       "      <td>7803</td>\n",
       "      <td>1900</td>\n",
       "      <td>2</td>\n",
       "      <td>C7</td>\n",
       "      <td>-</td>\n",
       "      <td>2016-12-09 00:00:00</td>\n",
       "    </tr>\n",
       "    <tr>\n",
       "      <th>3</th>\n",
       "      <td>1</td>\n",
       "      <td>ALPHABET CITY</td>\n",
       "      <td>07 RENTALS - WALKUP APARTMENTS</td>\n",
       "      <td>2B</td>\n",
       "      <td>402</td>\n",
       "      <td>21</td>\n",
       "      <td></td>\n",
       "      <td>C4</td>\n",
       "      <td>154 EAST 7TH STREET</td>\n",
       "      <td></td>\n",
       "      <td>...</td>\n",
       "      <td>10</td>\n",
       "      <td>0</td>\n",
       "      <td>10</td>\n",
       "      <td>2272</td>\n",
       "      <td>6794</td>\n",
       "      <td>1913</td>\n",
       "      <td>2</td>\n",
       "      <td>C4</td>\n",
       "      <td>3936272</td>\n",
       "      <td>2016-09-23 00:00:00</td>\n",
       "    </tr>\n",
       "    <tr>\n",
       "      <th>4</th>\n",
       "      <td>1</td>\n",
       "      <td>ALPHABET CITY</td>\n",
       "      <td>07 RENTALS - WALKUP APARTMENTS</td>\n",
       "      <td>2A</td>\n",
       "      <td>404</td>\n",
       "      <td>55</td>\n",
       "      <td></td>\n",
       "      <td>C2</td>\n",
       "      <td>301 EAST 10TH   STREET</td>\n",
       "      <td></td>\n",
       "      <td>...</td>\n",
       "      <td>6</td>\n",
       "      <td>0</td>\n",
       "      <td>6</td>\n",
       "      <td>2369</td>\n",
       "      <td>4615</td>\n",
       "      <td>1900</td>\n",
       "      <td>2</td>\n",
       "      <td>C2</td>\n",
       "      <td>8000000</td>\n",
       "      <td>2016-11-17 00:00:00</td>\n",
       "    </tr>\n",
       "  </tbody>\n",
       "</table>\n",
       "<p>5 rows × 21 columns</p>\n",
       "</div>"
      ],
      "text/plain": [
       "   BOROUGH   NEIGHBORHOOD                      BUILDING CLASS CATEGORY  \\\n",
       "0        1  ALPHABET CITY  07 RENTALS - WALKUP APARTMENTS                \n",
       "1        1  ALPHABET CITY  07 RENTALS - WALKUP APARTMENTS                \n",
       "2        1  ALPHABET CITY  07 RENTALS - WALKUP APARTMENTS                \n",
       "3        1  ALPHABET CITY  07 RENTALS - WALKUP APARTMENTS                \n",
       "4        1  ALPHABET CITY  07 RENTALS - WALKUP APARTMENTS                \n",
       "\n",
       "  TAX CLASS AT PRESENT  BLOCK  LOT EASE-MENT BUILDING CLASS AT PRESENT  \\\n",
       "0                   2A    392    6                                  C2   \n",
       "1                    2    399   26                                  C7   \n",
       "2                    2    399   39                                  C7   \n",
       "3                   2B    402   21                                  C4   \n",
       "4                   2A    404   55                                  C2   \n",
       "\n",
       "                  ADDRESS APARTMENT NUMBER  ...  RESIDENTIAL UNITS  \\\n",
       "0            153 AVENUE B                   ...                  5   \n",
       "1   234 EAST 4TH   STREET                   ...                 28   \n",
       "2   197 EAST 3RD   STREET                   ...                 16   \n",
       "3     154 EAST 7TH STREET                   ...                 10   \n",
       "4  301 EAST 10TH   STREET                   ...                  6   \n",
       "\n",
       "   COMMERCIAL UNITS  TOTAL UNITS  LAND SQUARE FEET GROSS SQUARE FEET  \\\n",
       "0                 0            5              1633              6440   \n",
       "1                 3           31              4616             18690   \n",
       "2                 1           17              2212              7803   \n",
       "3                 0           10              2272              6794   \n",
       "4                 0            6              2369              4615   \n",
       "\n",
       "  YEAR BUILT  TAX CLASS AT TIME OF SALE  BUILDING CLASS AT TIME OF SALE  \\\n",
       "0       1900                          2                              C2   \n",
       "1       1900                          2                              C7   \n",
       "2       1900                          2                              C7   \n",
       "3       1913                          2                              C4   \n",
       "4       1900                          2                              C2   \n",
       "\n",
       "  SALE PRICE            SALE DATE  \n",
       "0    6625000  2017-07-19 00:00:00  \n",
       "1        -    2016-12-14 00:00:00  \n",
       "2        -    2016-12-09 00:00:00  \n",
       "3    3936272  2016-09-23 00:00:00  \n",
       "4    8000000  2016-11-17 00:00:00  \n",
       "\n",
       "[5 rows x 21 columns]"
      ]
     },
     "execution_count": 6,
     "metadata": {},
     "output_type": "execute_result"
    }
   ],
   "source": [
    "df.head()"
   ]
  },
  {
   "cell_type": "code",
   "execution_count": 7,
   "id": "06795cd8",
   "metadata": {
    "scrolled": true
   },
   "outputs": [
    {
     "name": "stdout",
     "output_type": "stream",
     "text": [
      "<class 'pandas.core.frame.DataFrame'>\n",
      "RangeIndex: 84548 entries, 0 to 84547\n",
      "Data columns (total 21 columns):\n",
      " #   Column                          Non-Null Count  Dtype \n",
      "---  ------                          --------------  ----- \n",
      " 0   BOROUGH                         84548 non-null  int64 \n",
      " 1   NEIGHBORHOOD                    84548 non-null  object\n",
      " 2   BUILDING CLASS CATEGORY         84548 non-null  object\n",
      " 3   TAX CLASS AT PRESENT            84548 non-null  object\n",
      " 4   BLOCK                           84548 non-null  int64 \n",
      " 5   LOT                             84548 non-null  int64 \n",
      " 6   EASE-MENT                       84548 non-null  object\n",
      " 7   BUILDING CLASS AT PRESENT       84548 non-null  object\n",
      " 8   ADDRESS                         84548 non-null  object\n",
      " 9   APARTMENT NUMBER                84548 non-null  object\n",
      " 10  ZIP CODE                        84548 non-null  int64 \n",
      " 11  RESIDENTIAL UNITS               84548 non-null  int64 \n",
      " 12  COMMERCIAL UNITS                84548 non-null  int64 \n",
      " 13  TOTAL UNITS                     84548 non-null  int64 \n",
      " 14  LAND SQUARE FEET                84548 non-null  object\n",
      " 15  GROSS SQUARE FEET               84548 non-null  object\n",
      " 16  YEAR BUILT                      84548 non-null  int64 \n",
      " 17  TAX CLASS AT TIME OF SALE       84548 non-null  int64 \n",
      " 18  BUILDING CLASS AT TIME OF SALE  84548 non-null  object\n",
      " 19  SALE PRICE                      84548 non-null  object\n",
      " 20  SALE DATE                       84548 non-null  object\n",
      "dtypes: int64(9), object(12)\n",
      "memory usage: 13.5+ MB\n"
     ]
    }
   ],
   "source": [
    "df.info()"
   ]
  },
  {
   "cell_type": "code",
   "execution_count": 8,
   "id": "411baba1",
   "metadata": {},
   "outputs": [
    {
     "data": {
      "text/plain": [
       "dtype('int64')"
      ]
     },
     "execution_count": 8,
     "metadata": {},
     "output_type": "execute_result"
    }
   ],
   "source": [
    "df.BOROUGH.dtypes"
   ]
  },
  {
   "cell_type": "code",
   "execution_count": 9,
   "id": "4f0d0177",
   "metadata": {},
   "outputs": [
    {
     "data": {
      "text/plain": [
       "True"
      ]
     },
     "execution_count": 9,
     "metadata": {},
     "output_type": "execute_result"
    }
   ],
   "source": [
    "df.NEIGHBORHOOD.dtypes == object"
   ]
  },
  {
   "cell_type": "code",
   "execution_count": 10,
   "id": "22f5d013",
   "metadata": {},
   "outputs": [
    {
     "data": {
      "text/plain": [
       "[(254, 'NEIGHBORHOOD'),\n",
       " (47, 'BUILDING CLASS CATEGORY'),\n",
       " (11, 'TAX CLASS AT PRESENT'),\n",
       " (1, 'EASE-MENT'),\n",
       " (167, 'BUILDING CLASS AT PRESENT'),\n",
       " (67563, 'ADDRESS'),\n",
       " (3989, 'APARTMENT NUMBER'),\n",
       " (6062, 'LAND SQUARE FEET'),\n",
       " (5691, 'GROSS SQUARE FEET'),\n",
       " (166, 'BUILDING CLASS AT TIME OF SALE'),\n",
       " (10008, 'SALE PRICE'),\n",
       " (364, 'SALE DATE')]"
      ]
     },
     "execution_count": 10,
     "metadata": {},
     "output_type": "execute_result"
    }
   ],
   "source": [
    "# Wanna check if any column is categories \n",
    "\n",
    "[(len(df[col].value_counts()),col) for col in df.columns if df[col].dtypes == object]"
   ]
  },
  {
   "cell_type": "markdown",
   "id": "20d2a1fb",
   "metadata": {},
   "source": [
    "**NOTE: From the names 'BUILDING CLASS CATEGORY' 'TAX CLASS AT PRESENT' 'BUILDING CLASS AT PRESENT' 'BUILDING CLASS AT TIME OF SALE' looks like categories**\n",
    "\n",
    "Need to check for NEIGHBORHOOD"
   ]
  },
  {
   "cell_type": "code",
   "execution_count": 11,
   "id": "c72f9c42",
   "metadata": {
    "scrolled": true
   },
   "outputs": [
    {
     "data": {
      "text/plain": [
       "FLUSHING-NORTH              3068\n",
       "UPPER EAST SIDE (59-79)     1736\n",
       "UPPER EAST SIDE (79-96)     1590\n",
       "UPPER WEST SIDE (59-79)     1439\n",
       "BEDFORD STUYVESANT          1436\n",
       "                            ... \n",
       "VAN CORTLANDT PARK             2\n",
       "PELHAM BAY                     1\n",
       "BRONX PARK                     1\n",
       "CITY ISLAND-PELHAM STRIP       1\n",
       "EAST RIVER                     1\n",
       "Name: NEIGHBORHOOD, Length: 254, dtype: int64"
      ]
     },
     "execution_count": 11,
     "metadata": {},
     "output_type": "execute_result"
    }
   ],
   "source": [
    "df.NEIGHBORHOOD.value_counts()"
   ]
  },
  {
   "cell_type": "markdown",
   "id": "ccc32691",
   "metadata": {},
   "source": [
    "**NEIGHBORHOOD also looks like a category**"
   ]
  },
  {
   "cell_type": "code",
   "execution_count": 12,
   "id": "f4f6d542",
   "metadata": {},
   "outputs": [
    {
     "data": {
      "text/plain": [
       "4    26736\n",
       "3    24047\n",
       "1    18306\n",
       "5     8410\n",
       "2     7049\n",
       "Name: BOROUGH, dtype: int64"
      ]
     },
     "execution_count": 12,
     "metadata": {},
     "output_type": "execute_result"
    }
   ],
   "source": [
    "df.BOROUGH.value_counts()"
   ]
  },
  {
   "cell_type": "code",
   "execution_count": 13,
   "id": "9bbdcfc5",
   "metadata": {},
   "outputs": [
    {
     "data": {
      "text/plain": [
       "[(5, 'BOROUGH'),\n",
       " (254, 'NEIGHBORHOOD'),\n",
       " (47, 'BUILDING CLASS CATEGORY'),\n",
       " (11, 'TAX CLASS AT PRESENT'),\n",
       " (11566, 'BLOCK'),\n",
       " (2627, 'LOT'),\n",
       " (1, 'EASE-MENT'),\n",
       " (167, 'BUILDING CLASS AT PRESENT'),\n",
       " (67563, 'ADDRESS'),\n",
       " (3989, 'APARTMENT NUMBER'),\n",
       " (186, 'ZIP CODE'),\n",
       " (176, 'RESIDENTIAL UNITS'),\n",
       " (55, 'COMMERCIAL UNITS'),\n",
       " (192, 'TOTAL UNITS'),\n",
       " (6062, 'LAND SQUARE FEET'),\n",
       " (5691, 'GROSS SQUARE FEET'),\n",
       " (158, 'YEAR BUILT'),\n",
       " (4, 'TAX CLASS AT TIME OF SALE'),\n",
       " (166, 'BUILDING CLASS AT TIME OF SALE'),\n",
       " (10008, 'SALE PRICE'),\n",
       " (364, 'SALE DATE')]"
      ]
     },
     "execution_count": 13,
     "metadata": {},
     "output_type": "execute_result"
    }
   ],
   "source": [
    "#Even BOROUGH seems like categories. So its not that object type columns will be categories only\n",
    "[(len(df[col].value_counts()),col) for col in df.columns ]"
   ]
  },
  {
   "cell_type": "code",
   "execution_count": 14,
   "id": "6e69fbdb",
   "metadata": {
    "scrolled": true
   },
   "outputs": [
    {
     "data": {
      "text/plain": [
       "0         6625000\n",
       "1             -  \n",
       "2             -  \n",
       "3         3936272\n",
       "4         8000000\n",
       "           ...   \n",
       "84543      450000\n",
       "84544      550000\n",
       "84545      460000\n",
       "84546    11693337\n",
       "84547       69300\n",
       "Name: SALE PRICE, Length: 84548, dtype: object"
      ]
     },
     "execution_count": 14,
     "metadata": {},
     "output_type": "execute_result"
    }
   ],
   "source": [
    "df[\"SALE PRICE\"]"
   ]
  },
  {
   "cell_type": "markdown",
   "id": "ee1b9935",
   "metadata": {},
   "source": [
    "**SALE PRICE column is object but it should be numer. Lets convert it**"
   ]
  },
  {
   "cell_type": "code",
   "execution_count": 15,
   "id": "a7df8df2",
   "metadata": {},
   "outputs": [
    {
     "data": {
      "text/plain": [
       "0         6625000\n",
       "1             -  \n",
       "2             -  \n",
       "3         3936272\n",
       "4         8000000\n",
       "           ...   \n",
       "84543      450000\n",
       "84544      550000\n",
       "84545      460000\n",
       "84546    11693337\n",
       "84547       69300\n",
       "Name: SALE PRICE, Length: 84548, dtype: object"
      ]
     },
     "execution_count": 15,
     "metadata": {},
     "output_type": "execute_result"
    }
   ],
   "source": [
    "df[\"SALE PRICE\"].astype('int', errors=\"ignore\")"
   ]
  },
  {
   "cell_type": "code",
   "execution_count": 16,
   "id": "6c58d830",
   "metadata": {},
   "outputs": [
    {
     "data": {
      "text/plain": [
       "69987"
      ]
     },
     "execution_count": 16,
     "metadata": {},
     "output_type": "execute_result"
    }
   ],
   "source": [
    "import re\n",
    "\n",
    "# No of sale price row which are numbers\n",
    "len([price for price in df[\"SALE PRICE\"] if re.match(\"(\\d)+\", price.strip())])"
   ]
  },
  {
   "cell_type": "code",
   "execution_count": 17,
   "id": "b3f37f6a",
   "metadata": {},
   "outputs": [
    {
     "data": {
      "text/plain": [
       "14561"
      ]
     },
     "execution_count": 17,
     "metadata": {},
     "output_type": "execute_result"
    }
   ],
   "source": [
    "# No of sale price row which are not numbers\n",
    "len([price for price in df[\"SALE PRICE\"] if not re.match(\"(\\d)+\", price.strip())])"
   ]
  },
  {
   "cell_type": "code",
   "execution_count": 18,
   "id": "bf4b3599",
   "metadata": {},
   "outputs": [
    {
     "data": {
      "text/plain": [
       "23"
      ]
     },
     "execution_count": 18,
     "metadata": {},
     "output_type": "execute_result"
    }
   ],
   "source": [
    "int(\"23\")"
   ]
  },
  {
   "cell_type": "code",
   "execution_count": 19,
   "id": "0f4a822c",
   "metadata": {},
   "outputs": [
    {
     "data": {
      "text/plain": [
       "0         6625000.0\n",
       "1               NaN\n",
       "2               NaN\n",
       "3         3936272.0\n",
       "4         8000000.0\n",
       "            ...    \n",
       "84543      450000.0\n",
       "84544      550000.0\n",
       "84545      460000.0\n",
       "84546    11693337.0\n",
       "84547       69300.0\n",
       "Name: SALE PRICE, Length: 84548, dtype: float64"
      ]
     },
     "execution_count": 19,
     "metadata": {},
     "output_type": "execute_result"
    }
   ],
   "source": [
    "def numOrNan(x):\n",
    "    if re.match(\"(\\d)+\", x.strip()):\n",
    "        return float(x)\n",
    "    else:\n",
    "        return np.nan\n",
    "df[\"SALE PRICE\"]=df[\"SALE PRICE\"].apply(numOrNan)\n",
    "df[\"SALE PRICE\"]"
   ]
  },
  {
   "cell_type": "code",
   "execution_count": 20,
   "id": "618635b1",
   "metadata": {},
   "outputs": [
    {
     "data": {
      "text/html": [
       "<div>\n",
       "<style scoped>\n",
       "    .dataframe tbody tr th:only-of-type {\n",
       "        vertical-align: middle;\n",
       "    }\n",
       "\n",
       "    .dataframe tbody tr th {\n",
       "        vertical-align: top;\n",
       "    }\n",
       "\n",
       "    .dataframe thead th {\n",
       "        text-align: right;\n",
       "    }\n",
       "</style>\n",
       "<table border=\"1\" class=\"dataframe\">\n",
       "  <thead>\n",
       "    <tr style=\"text-align: right;\">\n",
       "      <th></th>\n",
       "      <th>BOROUGH</th>\n",
       "      <th>BLOCK</th>\n",
       "      <th>LOT</th>\n",
       "      <th>ZIP CODE</th>\n",
       "      <th>RESIDENTIAL UNITS</th>\n",
       "      <th>COMMERCIAL UNITS</th>\n",
       "      <th>TOTAL UNITS</th>\n",
       "      <th>YEAR BUILT</th>\n",
       "      <th>TAX CLASS AT TIME OF SALE</th>\n",
       "      <th>SALE PRICE</th>\n",
       "    </tr>\n",
       "  </thead>\n",
       "  <tbody>\n",
       "    <tr>\n",
       "      <th>count</th>\n",
       "      <td>84548.000000</td>\n",
       "      <td>84548.000000</td>\n",
       "      <td>84548.000000</td>\n",
       "      <td>84548.000000</td>\n",
       "      <td>84548.000000</td>\n",
       "      <td>84548.000000</td>\n",
       "      <td>84548.000000</td>\n",
       "      <td>84548.000000</td>\n",
       "      <td>84548.000000</td>\n",
       "      <td>6.998700e+04</td>\n",
       "    </tr>\n",
       "    <tr>\n",
       "      <th>mean</th>\n",
       "      <td>2.998758</td>\n",
       "      <td>4237.218976</td>\n",
       "      <td>376.224015</td>\n",
       "      <td>10731.991614</td>\n",
       "      <td>2.025264</td>\n",
       "      <td>0.193559</td>\n",
       "      <td>2.249184</td>\n",
       "      <td>1789.322976</td>\n",
       "      <td>1.657485</td>\n",
       "      <td>1.276456e+06</td>\n",
       "    </tr>\n",
       "    <tr>\n",
       "      <th>std</th>\n",
       "      <td>1.289790</td>\n",
       "      <td>3568.263407</td>\n",
       "      <td>658.136814</td>\n",
       "      <td>1290.879147</td>\n",
       "      <td>16.721037</td>\n",
       "      <td>8.713183</td>\n",
       "      <td>18.972584</td>\n",
       "      <td>537.344993</td>\n",
       "      <td>0.819341</td>\n",
       "      <td>1.140526e+07</td>\n",
       "    </tr>\n",
       "    <tr>\n",
       "      <th>min</th>\n",
       "      <td>1.000000</td>\n",
       "      <td>1.000000</td>\n",
       "      <td>1.000000</td>\n",
       "      <td>0.000000</td>\n",
       "      <td>0.000000</td>\n",
       "      <td>0.000000</td>\n",
       "      <td>0.000000</td>\n",
       "      <td>0.000000</td>\n",
       "      <td>1.000000</td>\n",
       "      <td>0.000000e+00</td>\n",
       "    </tr>\n",
       "    <tr>\n",
       "      <th>25%</th>\n",
       "      <td>2.000000</td>\n",
       "      <td>1322.750000</td>\n",
       "      <td>22.000000</td>\n",
       "      <td>10305.000000</td>\n",
       "      <td>0.000000</td>\n",
       "      <td>0.000000</td>\n",
       "      <td>1.000000</td>\n",
       "      <td>1920.000000</td>\n",
       "      <td>1.000000</td>\n",
       "      <td>2.250000e+05</td>\n",
       "    </tr>\n",
       "    <tr>\n",
       "      <th>50%</th>\n",
       "      <td>3.000000</td>\n",
       "      <td>3311.000000</td>\n",
       "      <td>50.000000</td>\n",
       "      <td>11209.000000</td>\n",
       "      <td>1.000000</td>\n",
       "      <td>0.000000</td>\n",
       "      <td>1.000000</td>\n",
       "      <td>1940.000000</td>\n",
       "      <td>2.000000</td>\n",
       "      <td>5.300000e+05</td>\n",
       "    </tr>\n",
       "    <tr>\n",
       "      <th>75%</th>\n",
       "      <td>4.000000</td>\n",
       "      <td>6281.000000</td>\n",
       "      <td>1001.000000</td>\n",
       "      <td>11357.000000</td>\n",
       "      <td>2.000000</td>\n",
       "      <td>0.000000</td>\n",
       "      <td>2.000000</td>\n",
       "      <td>1965.000000</td>\n",
       "      <td>2.000000</td>\n",
       "      <td>9.500000e+05</td>\n",
       "    </tr>\n",
       "    <tr>\n",
       "      <th>max</th>\n",
       "      <td>5.000000</td>\n",
       "      <td>16322.000000</td>\n",
       "      <td>9106.000000</td>\n",
       "      <td>11694.000000</td>\n",
       "      <td>1844.000000</td>\n",
       "      <td>2261.000000</td>\n",
       "      <td>2261.000000</td>\n",
       "      <td>2017.000000</td>\n",
       "      <td>4.000000</td>\n",
       "      <td>2.210000e+09</td>\n",
       "    </tr>\n",
       "  </tbody>\n",
       "</table>\n",
       "</div>"
      ],
      "text/plain": [
       "            BOROUGH         BLOCK           LOT      ZIP CODE  \\\n",
       "count  84548.000000  84548.000000  84548.000000  84548.000000   \n",
       "mean       2.998758   4237.218976    376.224015  10731.991614   \n",
       "std        1.289790   3568.263407    658.136814   1290.879147   \n",
       "min        1.000000      1.000000      1.000000      0.000000   \n",
       "25%        2.000000   1322.750000     22.000000  10305.000000   \n",
       "50%        3.000000   3311.000000     50.000000  11209.000000   \n",
       "75%        4.000000   6281.000000   1001.000000  11357.000000   \n",
       "max        5.000000  16322.000000   9106.000000  11694.000000   \n",
       "\n",
       "       RESIDENTIAL UNITS  COMMERCIAL UNITS   TOTAL UNITS    YEAR BUILT  \\\n",
       "count       84548.000000      84548.000000  84548.000000  84548.000000   \n",
       "mean            2.025264          0.193559      2.249184   1789.322976   \n",
       "std            16.721037          8.713183     18.972584    537.344993   \n",
       "min             0.000000          0.000000      0.000000      0.000000   \n",
       "25%             0.000000          0.000000      1.000000   1920.000000   \n",
       "50%             1.000000          0.000000      1.000000   1940.000000   \n",
       "75%             2.000000          0.000000      2.000000   1965.000000   \n",
       "max          1844.000000       2261.000000   2261.000000   2017.000000   \n",
       "\n",
       "       TAX CLASS AT TIME OF SALE    SALE PRICE  \n",
       "count               84548.000000  6.998700e+04  \n",
       "mean                    1.657485  1.276456e+06  \n",
       "std                     0.819341  1.140526e+07  \n",
       "min                     1.000000  0.000000e+00  \n",
       "25%                     1.000000  2.250000e+05  \n",
       "50%                     2.000000  5.300000e+05  \n",
       "75%                     2.000000  9.500000e+05  \n",
       "max                     4.000000  2.210000e+09  "
      ]
     },
     "execution_count": 20,
     "metadata": {},
     "output_type": "execute_result"
    }
   ],
   "source": [
    "df.describe()"
   ]
  },
  {
   "cell_type": "code",
   "execution_count": 21,
   "id": "affc1e53",
   "metadata": {
    "scrolled": true
   },
   "outputs": [
    {
     "data": {
      "image/png": "[encoded data removed]",
      "text/plain": [
       "<Figure size 432x288 with 1 Axes>"
      ]
     },
     "metadata": {
      "needs_background": "light"
     },
     "output_type": "display_data"
    }
   ],
   "source": [
    "df[\"SALE PRICE\"].plot()\n",
    "plt.show()"
   ]
  },
  {
   "cell_type": "code",
   "execution_count": 22,
   "id": "609dbf48",
   "metadata": {
    "scrolled": true
   },
   "outputs": [
    {
     "data": {
      "text/plain": [
       "<AxesSubplot:>"
      ]
     },
     "execution_count": 22,
     "metadata": {},
     "output_type": "execute_result"
    },
    {
     "data": {
      "image/png": "[encoded data removed]",
      "text/plain": [
       "<Figure size 432x288 with 1 Axes>"
      ]
     },
     "metadata": {
      "needs_background": "light"
     },
     "output_type": "display_data"
    }
   ],
   "source": [
    "df[df[\"SALE PRICE\"] < 6.000000e+06 ][\"SALE PRICE\"].hist()"
   ]
  },
  {
   "cell_type": "code",
   "execution_count": 23,
   "id": "137ab659",
   "metadata": {},
   "outputs": [
    {
     "data": {
      "text/plain": [
       "Index(['BOROUGH', 'NEIGHBORHOOD', 'BUILDING CLASS CATEGORY',\n",
       "       'TAX CLASS AT PRESENT', 'BLOCK', 'LOT', 'EASE-MENT',\n",
       "       'BUILDING CLASS AT PRESENT', 'ADDRESS', 'APARTMENT NUMBER', 'ZIP CODE',\n",
       "       'RESIDENTIAL UNITS', 'COMMERCIAL UNITS', 'TOTAL UNITS',\n",
       "       'LAND SQUARE FEET', 'GROSS SQUARE FEET', 'YEAR BUILT',\n",
       "       'TAX CLASS AT TIME OF SALE', 'BUILDING CLASS AT TIME OF SALE',\n",
       "       'SALE PRICE', 'SALE DATE'],\n",
       "      dtype='object')"
      ]
     },
     "execution_count": 23,
     "metadata": {},
     "output_type": "execute_result"
    }
   ],
   "source": [
    "df.columns"
   ]
  },
  {
   "cell_type": "markdown",
   "id": "ba150780",
   "metadata": {},
   "source": [
    "## 2. Create Test Set"
   ]
  },
  {
   "cell_type": "markdown",
   "id": "c369ec4a",
   "metadata": {},
   "source": [
    "**Method 1: Randomly select test and train set based on the ratio**"
   ]
  },
  {
   "cell_type": "code",
   "execution_count": 24,
   "id": "a6ed91da",
   "metadata": {},
   "outputs": [
    {
     "data": {
      "text/plain": [
       "84548"
      ]
     },
     "execution_count": 24,
     "metadata": {},
     "output_type": "execute_result"
    }
   ],
   "source": [
    "len(df)"
   ]
  },
  {
   "cell_type": "code",
   "execution_count": 25,
   "id": "9ea1ee80",
   "metadata": {},
   "outputs": [],
   "source": [
    "def split_test_train(df, test_ratio):\n",
    "    rand_indices = np.random.permutation(len(df))\n",
    "    test_num = int(test_ratio * len(df))\n",
    "    test_set = df.loc[list(rand_indices[:test_num])]\n",
    "    train_set= df.loc[list(rand_indices[test_num:])]\n",
    "    return test_set, train_set"
   ]
  },
  {
   "cell_type": "code",
   "execution_count": 26,
   "id": "82fa4740",
   "metadata": {
    "scrolled": true
   },
   "outputs": [
    {
     "data": {
      "text/plain": [
       "(16909, 67639)"
      ]
     },
     "execution_count": 26,
     "metadata": {},
     "output_type": "execute_result"
    }
   ],
   "source": [
    "test_set, train_set = split_test_train(df, test_ratio=0.2)\n",
    "len(test_set), len(train_set)"
   ]
  },
  {
   "cell_type": "markdown",
   "id": "58588d0f",
   "metadata": {},
   "source": [
    "**Method 2: CRC based**"
   ]
  },
  {
   "cell_type": "code",
   "execution_count": 27,
   "id": "39625ea0",
   "metadata": {},
   "outputs": [],
   "source": [
    "from zlib import crc32"
   ]
  },
  {
   "cell_type": "code",
   "execution_count": 28,
   "id": "404c79ba",
   "metadata": {},
   "outputs": [
    {
     "data": {
      "text/plain": [
       "RangeIndex(start=0, stop=84548, step=1)"
      ]
     },
     "execution_count": 28,
     "metadata": {},
     "output_type": "execute_result"
    }
   ],
   "source": [
    "df.index"
   ]
  },
  {
   "cell_type": "code",
   "execution_count": null,
   "id": "82a9850f",
   "metadata": {},
   "outputs": [],
   "source": []
  },
  {
   "cell_type": "code",
   "execution_count": 29,
   "id": "a4dce971",
   "metadata": {},
   "outputs": [],
   "source": [
    "def checkCRC(index, test_ratio):\n",
    "    return crc32(np.int64(index)) < (test_ratio * 2**32)"
   ]
  },
  {
   "cell_type": "code",
   "execution_count": 30,
   "id": "49dda7cb",
   "metadata": {},
   "outputs": [],
   "source": [
    "def crc_split_test_train(df, test_ratio, index):\n",
    "    ids = df[index]\n",
    "    test_ids = ids.apply(lambda x: checkCRC(x,test_ratio))\n",
    "    return df[test_ids], df[~test_ids]\n",
    "        "
   ]
  },
  {
   "cell_type": "code",
   "execution_count": 31,
   "id": "28222db4",
   "metadata": {},
   "outputs": [
    {
     "data": {
      "text/plain": [
       "Index(['BOROUGH', 'NEIGHBORHOOD', 'BUILDING CLASS CATEGORY',\n",
       "       'TAX CLASS AT PRESENT', 'BLOCK', 'LOT', 'EASE-MENT',\n",
       "       'BUILDING CLASS AT PRESENT', 'ADDRESS', 'APARTMENT NUMBER', 'ZIP CODE',\n",
       "       'RESIDENTIAL UNITS', 'COMMERCIAL UNITS', 'TOTAL UNITS',\n",
       "       'LAND SQUARE FEET', 'GROSS SQUARE FEET', 'YEAR BUILT',\n",
       "       'TAX CLASS AT TIME OF SALE', 'BUILDING CLASS AT TIME OF SALE',\n",
       "       'SALE PRICE', 'SALE DATE'],\n",
       "      dtype='object')"
      ]
     },
     "execution_count": 31,
     "metadata": {},
     "output_type": "execute_result"
    }
   ],
   "source": [
    "df.columns"
   ]
  },
  {
   "cell_type": "code",
   "execution_count": 32,
   "id": "0620a3d3",
   "metadata": {
    "scrolled": true
   },
   "outputs": [
    {
     "data": {
      "text/plain": [
       "Index(['index', 'BOROUGH', 'NEIGHBORHOOD', 'BUILDING CLASS CATEGORY',\n",
       "       'TAX CLASS AT PRESENT', 'BLOCK', 'LOT', 'EASE-MENT',\n",
       "       'BUILDING CLASS AT PRESENT', 'ADDRESS', 'APARTMENT NUMBER', 'ZIP CODE',\n",
       "       'RESIDENTIAL UNITS', 'COMMERCIAL UNITS', 'TOTAL UNITS',\n",
       "       'LAND SQUARE FEET', 'GROSS SQUARE FEET', 'YEAR BUILT',\n",
       "       'TAX CLASS AT TIME OF SALE', 'BUILDING CLASS AT TIME OF SALE',\n",
       "       'SALE PRICE', 'SALE DATE'],\n",
       "      dtype='object')"
      ]
     },
     "execution_count": 32,
     "metadata": {},
     "output_type": "execute_result"
    }
   ],
   "source": [
    "#Adding an index to the df. COlumn name will be \"index\"\n",
    "df = df.reset_index()\n",
    "df.columns"
   ]
  },
  {
   "cell_type": "code",
   "execution_count": 33,
   "id": "3603811a",
   "metadata": {},
   "outputs": [
    {
     "data": {
      "text/plain": [
       "(16909, 67639)"
      ]
     },
     "execution_count": 33,
     "metadata": {},
     "output_type": "execute_result"
    }
   ],
   "source": [
    "test_set, train_set = crc_split_test_train(df,0.2,\"index\")\n",
    "len(test_set), len(train_set)"
   ]
  },
  {
   "cell_type": "markdown",
   "id": "6b72b709",
   "metadata": {},
   "source": [
    "### Visualize the data"
   ]
  },
  {
   "cell_type": "markdown",
   "id": "3ef8a62f",
   "metadata": {},
   "source": [
    "### Looking for correlation"
   ]
  },
  {
   "cell_type": "markdown",
   "id": "9686269d",
   "metadata": {},
   "source": [
    "#### Looking for Correlations"
   ]
  },
  {
   "cell_type": "code",
   "execution_count": 34,
   "id": "ce8b28f9",
   "metadata": {},
   "outputs": [],
   "source": [
    "corr_matrix = df.corr()"
   ]
  },
  {
   "cell_type": "code",
   "execution_count": 35,
   "id": "b108a955",
   "metadata": {},
   "outputs": [
    {
     "data": {
      "text/html": [
       "<div>\n",
       "<style scoped>\n",
       "    .dataframe tbody tr th:only-of-type {\n",
       "        vertical-align: middle;\n",
       "    }\n",
       "\n",
       "    .dataframe tbody tr th {\n",
       "        vertical-align: top;\n",
       "    }\n",
       "\n",
       "    .dataframe thead th {\n",
       "        text-align: right;\n",
       "    }\n",
       "</style>\n",
       "<table border=\"1\" class=\"dataframe\">\n",
       "  <thead>\n",
       "    <tr style=\"text-align: right;\">\n",
       "      <th></th>\n",
       "      <th>index</th>\n",
       "      <th>BOROUGH</th>\n",
       "      <th>BLOCK</th>\n",
       "      <th>LOT</th>\n",
       "      <th>ZIP CODE</th>\n",
       "      <th>RESIDENTIAL UNITS</th>\n",
       "      <th>COMMERCIAL UNITS</th>\n",
       "      <th>TOTAL UNITS</th>\n",
       "      <th>YEAR BUILT</th>\n",
       "      <th>TAX CLASS AT TIME OF SALE</th>\n",
       "      <th>SALE PRICE</th>\n",
       "    </tr>\n",
       "  </thead>\n",
       "  <tbody>\n",
       "    <tr>\n",
       "      <th>index</th>\n",
       "      <td>1.000000</td>\n",
       "      <td>0.956227</td>\n",
       "      <td>0.426810</td>\n",
       "      <td>-0.257598</td>\n",
       "      <td>0.224556</td>\n",
       "      <td>-0.025638</td>\n",
       "      <td>-0.005724</td>\n",
       "      <td>-0.025574</td>\n",
       "      <td>0.102361</td>\n",
       "      <td>-0.294673</td>\n",
       "      <td>-0.068230</td>\n",
       "    </tr>\n",
       "    <tr>\n",
       "      <th>BOROUGH</th>\n",
       "      <td>0.956227</td>\n",
       "      <td>1.000000</td>\n",
       "      <td>0.417001</td>\n",
       "      <td>-0.277848</td>\n",
       "      <td>0.256564</td>\n",
       "      <td>-0.023229</td>\n",
       "      <td>-0.005503</td>\n",
       "      <td>-0.023346</td>\n",
       "      <td>0.108303</td>\n",
       "      <td>-0.315163</td>\n",
       "      <td>-0.074418</td>\n",
       "    </tr>\n",
       "    <tr>\n",
       "      <th>BLOCK</th>\n",
       "      <td>0.426810</td>\n",
       "      <td>0.417001</td>\n",
       "      <td>1.000000</td>\n",
       "      <td>-0.229118</td>\n",
       "      <td>0.234063</td>\n",
       "      <td>-0.015628</td>\n",
       "      <td>-0.003517</td>\n",
       "      <td>-0.015888</td>\n",
       "      <td>0.071262</td>\n",
       "      <td>-0.287300</td>\n",
       "      <td>-0.061139</td>\n",
       "    </tr>\n",
       "    <tr>\n",
       "      <th>LOT</th>\n",
       "      <td>-0.257598</td>\n",
       "      <td>-0.277848</td>\n",
       "      <td>-0.229118</td>\n",
       "      <td>1.000000</td>\n",
       "      <td>-0.145802</td>\n",
       "      <td>-0.034303</td>\n",
       "      <td>-0.010953</td>\n",
       "      <td>-0.033169</td>\n",
       "      <td>-0.289463</td>\n",
       "      <td>0.296680</td>\n",
       "      <td>0.012324</td>\n",
       "    </tr>\n",
       "    <tr>\n",
       "      <th>ZIP CODE</th>\n",
       "      <td>0.224556</td>\n",
       "      <td>0.256564</td>\n",
       "      <td>0.234063</td>\n",
       "      <td>-0.145802</td>\n",
       "      <td>1.000000</td>\n",
       "      <td>0.005578</td>\n",
       "      <td>0.000726</td>\n",
       "      <td>0.005415</td>\n",
       "      <td>0.330708</td>\n",
       "      <td>-0.142915</td>\n",
       "      <td>-0.034170</td>\n",
       "    </tr>\n",
       "    <tr>\n",
       "      <th>RESIDENTIAL UNITS</th>\n",
       "      <td>-0.025638</td>\n",
       "      <td>-0.023229</td>\n",
       "      <td>-0.015628</td>\n",
       "      <td>-0.034303</td>\n",
       "      <td>0.005578</td>\n",
       "      <td>1.000000</td>\n",
       "      <td>0.015653</td>\n",
       "      <td>0.888309</td>\n",
       "      <td>0.025380</td>\n",
       "      <td>-0.001074</td>\n",
       "      <td>0.119698</td>\n",
       "    </tr>\n",
       "    <tr>\n",
       "      <th>COMMERCIAL UNITS</th>\n",
       "      <td>-0.005724</td>\n",
       "      <td>-0.005503</td>\n",
       "      <td>-0.003517</td>\n",
       "      <td>-0.010953</td>\n",
       "      <td>0.000726</td>\n",
       "      <td>0.015653</td>\n",
       "      <td>1.000000</td>\n",
       "      <td>0.472998</td>\n",
       "      <td>0.006428</td>\n",
       "      <td>0.049586</td>\n",
       "      <td>0.046006</td>\n",
       "    </tr>\n",
       "    <tr>\n",
       "      <th>TOTAL UNITS</th>\n",
       "      <td>-0.025574</td>\n",
       "      <td>-0.023346</td>\n",
       "      <td>-0.015888</td>\n",
       "      <td>-0.033169</td>\n",
       "      <td>0.005415</td>\n",
       "      <td>0.888309</td>\n",
       "      <td>0.472998</td>\n",
       "      <td>1.000000</td>\n",
       "      <td>0.024568</td>\n",
       "      <td>0.026429</td>\n",
       "      <td>0.125101</td>\n",
       "    </tr>\n",
       "    <tr>\n",
       "      <th>YEAR BUILT</th>\n",
       "      <td>0.102361</td>\n",
       "      <td>0.108303</td>\n",
       "      <td>0.071262</td>\n",
       "      <td>-0.289463</td>\n",
       "      <td>0.330708</td>\n",
       "      <td>0.025380</td>\n",
       "      <td>0.006428</td>\n",
       "      <td>0.024568</td>\n",
       "      <td>1.000000</td>\n",
       "      <td>-0.187609</td>\n",
       "      <td>-0.003539</td>\n",
       "    </tr>\n",
       "    <tr>\n",
       "      <th>TAX CLASS AT TIME OF SALE</th>\n",
       "      <td>-0.294673</td>\n",
       "      <td>-0.315163</td>\n",
       "      <td>-0.287300</td>\n",
       "      <td>0.296680</td>\n",
       "      <td>-0.142915</td>\n",
       "      <td>-0.001074</td>\n",
       "      <td>0.049586</td>\n",
       "      <td>0.026429</td>\n",
       "      <td>-0.187609</td>\n",
       "      <td>1.000000</td>\n",
       "      <td>0.091352</td>\n",
       "    </tr>\n",
       "    <tr>\n",
       "      <th>SALE PRICE</th>\n",
       "      <td>-0.068230</td>\n",
       "      <td>-0.074418</td>\n",
       "      <td>-0.061139</td>\n",
       "      <td>0.012324</td>\n",
       "      <td>-0.034170</td>\n",
       "      <td>0.119698</td>\n",
       "      <td>0.046006</td>\n",
       "      <td>0.125101</td>\n",
       "      <td>-0.003539</td>\n",
       "      <td>0.091352</td>\n",
       "      <td>1.000000</td>\n",
       "    </tr>\n",
       "  </tbody>\n",
       "</table>\n",
       "</div>"
      ],
      "text/plain": [
       "                              index   BOROUGH     BLOCK       LOT  ZIP CODE  \\\n",
       "index                      1.000000  0.956227  0.426810 -0.257598  0.224556   \n",
       "BOROUGH                    0.956227  1.000000  0.417001 -0.277848  0.256564   \n",
       "BLOCK                      0.426810  0.417001  1.000000 -0.229118  0.234063   \n",
       "LOT                       -0.257598 -0.277848 -0.229118  1.000000 -0.145802   \n",
       "ZIP CODE                   0.224556  0.256564  0.234063 -0.145802  1.000000   \n",
       "RESIDENTIAL UNITS         -0.025638 -0.023229 -0.015628 -0.034303  0.005578   \n",
       "COMMERCIAL UNITS          -0.005724 -0.005503 -0.003517 -0.010953  0.000726   \n",
       "TOTAL UNITS               -0.025574 -0.023346 -0.015888 -0.033169  0.005415   \n",
       "YEAR BUILT                 0.102361  0.108303  0.071262 -0.289463  0.330708   \n",
       "TAX CLASS AT TIME OF SALE -0.294673 -0.315163 -0.287300  0.296680 -0.142915   \n",
       "SALE PRICE                -0.068230 -0.074418 -0.061139  0.012324 -0.034170   \n",
       "\n",
       "                           RESIDENTIAL UNITS  COMMERCIAL UNITS  TOTAL UNITS  \\\n",
       "index                              -0.025638         -0.005724    -0.025574   \n",
       "BOROUGH                            -0.023229         -0.005503    -0.023346   \n",
       "BLOCK                              -0.015628         -0.003517    -0.015888   \n",
       "LOT                                -0.034303         -0.010953    -0.033169   \n",
       "ZIP CODE                            0.005578          0.000726     0.005415   \n",
       "RESIDENTIAL UNITS                   1.000000          0.015653     0.888309   \n",
       "COMMERCIAL UNITS                    0.015653          1.000000     0.472998   \n",
       "TOTAL UNITS                         0.888309          0.472998     1.000000   \n",
       "YEAR BUILT                          0.025380          0.006428     0.024568   \n",
       "TAX CLASS AT TIME OF SALE          -0.001074          0.049586     0.026429   \n",
       "SALE PRICE                          0.119698          0.046006     0.125101   \n",
       "\n",
       "                           YEAR BUILT  TAX CLASS AT TIME OF SALE  SALE PRICE  \n",
       "index                        0.102361                  -0.294673   -0.068230  \n",
       "BOROUGH                      0.108303                  -0.315163   -0.074418  \n",
       "BLOCK                        0.071262                  -0.287300   -0.061139  \n",
       "LOT                         -0.289463                   0.296680    0.012324  \n",
       "ZIP CODE                     0.330708                  -0.142915   -0.034170  \n",
       "RESIDENTIAL UNITS            0.025380                  -0.001074    0.119698  \n",
       "COMMERCIAL UNITS             0.006428                   0.049586    0.046006  \n",
       "TOTAL UNITS                  0.024568                   0.026429    0.125101  \n",
       "YEAR BUILT                   1.000000                  -0.187609   -0.003539  \n",
       "TAX CLASS AT TIME OF SALE   -0.187609                   1.000000    0.091352  \n",
       "SALE PRICE                  -0.003539                   0.091352    1.000000  "
      ]
     },
     "execution_count": 35,
     "metadata": {},
     "output_type": "execute_result"
    }
   ],
   "source": [
    "corr_matrix"
   ]
  },
  {
   "cell_type": "code",
   "execution_count": 36,
   "id": "e6fe7159",
   "metadata": {
    "scrolled": true
   },
   "outputs": [
    {
     "data": {
      "text/plain": [
       "SALE PRICE                   1.000000\n",
       "TOTAL UNITS                  0.125101\n",
       "RESIDENTIAL UNITS            0.119698\n",
       "TAX CLASS AT TIME OF SALE    0.091352\n",
       "COMMERCIAL UNITS             0.046006\n",
       "LOT                          0.012324\n",
       "YEAR BUILT                  -0.003539\n",
       "ZIP CODE                    -0.034170\n",
       "BLOCK                       -0.061139\n",
       "index                       -0.068230\n",
       "BOROUGH                     -0.074418\n",
       "Name: SALE PRICE, dtype: float64"
      ]
     },
     "execution_count": 36,
     "metadata": {},
     "output_type": "execute_result"
    }
   ],
   "source": [
    "corr_matrix[\"SALE PRICE\"].sort_values(ascending=False)"
   ]
  },
  {
   "cell_type": "code",
   "execution_count": 37,
   "id": "d4d8f11f",
   "metadata": {
    "scrolled": true
   },
   "outputs": [
    {
     "data": {
      "text/plain": [
       "array([[<AxesSubplot:xlabel='SALE PRICE', ylabel='SALE PRICE'>,\n",
       "        <AxesSubplot:xlabel='TOTAL UNITS', ylabel='SALE PRICE'>,\n",
       "        <AxesSubplot:xlabel='RESIDENTIAL UNITS', ylabel='SALE PRICE'>,\n",
       "        <AxesSubplot:xlabel='TAX CLASS AT TIME OF SALE', ylabel='SALE PRICE'>,\n",
       "        <AxesSubplot:xlabel='BOROUGH', ylabel='SALE PRICE'>],\n",
       "       [<AxesSubplot:xlabel='SALE PRICE', ylabel='TOTAL UNITS'>,\n",
       "        <AxesSubplot:xlabel='TOTAL UNITS', ylabel='TOTAL UNITS'>,\n",
       "        <AxesSubplot:xlabel='RESIDENTIAL UNITS', ylabel='TOTAL UNITS'>,\n",
       "        <AxesSubplot:xlabel='TAX CLASS AT TIME OF SALE', ylabel='TOTAL UNITS'>,\n",
       "        <AxesSubplot:xlabel='BOROUGH', ylabel='TOTAL UNITS'>],\n",
       "       [<AxesSubplot:xlabel='SALE PRICE', ylabel='RESIDENTIAL UNITS'>,\n",
       "        <AxesSubplot:xlabel='TOTAL UNITS', ylabel='RESIDENTIAL UNITS'>,\n",
       "        <AxesSubplot:xlabel='RESIDENTIAL UNITS', ylabel='RESIDENTIAL UNITS'>,\n",
       "        <AxesSubplot:xlabel='TAX CLASS AT TIME OF SALE', ylabel='RESIDENTIAL UNITS'>,\n",
       "        <AxesSubplot:xlabel='BOROUGH', ylabel='RESIDENTIAL UNITS'>],\n",
       "       [<AxesSubplot:xlabel='SALE PRICE', ylabel='TAX CLASS AT TIME OF SALE'>,\n",
       "        <AxesSubplot:xlabel='TOTAL UNITS', ylabel='TAX CLASS AT TIME OF SALE'>,\n",
       "        <AxesSubplot:xlabel='RESIDENTIAL UNITS', ylabel='TAX CLASS AT TIME OF SALE'>,\n",
       "        <AxesSubplot:xlabel='TAX CLASS AT TIME OF SALE', ylabel='TAX CLASS AT TIME OF SALE'>,\n",
       "        <AxesSubplot:xlabel='BOROUGH', ylabel='TAX CLASS AT TIME OF SALE'>],\n",
       "       [<AxesSubplot:xlabel='SALE PRICE', ylabel='BOROUGH'>,\n",
       "        <AxesSubplot:xlabel='TOTAL UNITS', ylabel='BOROUGH'>,\n",
       "        <AxesSubplot:xlabel='RESIDENTIAL UNITS', ylabel='BOROUGH'>,\n",
       "        <AxesSubplot:xlabel='TAX CLASS AT TIME OF SALE', ylabel='BOROUGH'>,\n",
       "        <AxesSubplot:xlabel='BOROUGH', ylabel='BOROUGH'>]], dtype=object)"
      ]
     },
     "execution_count": 37,
     "metadata": {},
     "output_type": "execute_result"
    },
    {
     "data": {
      "image/png": "[encoded data removed]",
      "text/plain": [
       "<Figure size 864x576 with 25 Axes>"
      ]
     },
     "metadata": {
      "needs_background": "light"
     },
     "output_type": "display_data"
    }
   ],
   "source": [
    "from pandas.plotting import scatter_matrix\n",
    "\n",
    "attributes = [\"SALE PRICE\", \"TOTAL UNITS\", \"RESIDENTIAL UNITS\", \"TAX CLASS AT TIME OF SALE\", \"BOROUGH\"]\n",
    "\n",
    "scatter_matrix(df[attributes], figsize=(12,8))"
   ]
  },
  {
   "cell_type": "markdown",
   "id": "c223893c",
   "metadata": {},
   "source": [
    "### Experimenting with Attribute Combination"
   ]
  },
  {
   "cell_type": "code",
   "execution_count": 38,
   "id": "018f6906",
   "metadata": {
    "scrolled": true
   },
   "outputs": [
    {
     "data": {
      "text/plain": [
       "Index(['index', 'BOROUGH', 'NEIGHBORHOOD', 'BUILDING CLASS CATEGORY',\n",
       "       'TAX CLASS AT PRESENT', 'BLOCK', 'LOT', 'EASE-MENT',\n",
       "       'BUILDING CLASS AT PRESENT', 'ADDRESS', 'APARTMENT NUMBER', 'ZIP CODE',\n",
       "       'RESIDENTIAL UNITS', 'COMMERCIAL UNITS', 'TOTAL UNITS',\n",
       "       'LAND SQUARE FEET', 'GROSS SQUARE FEET', 'YEAR BUILT',\n",
       "       'TAX CLASS AT TIME OF SALE', 'BUILDING CLASS AT TIME OF SALE',\n",
       "       'SALE PRICE', 'SALE DATE'],\n",
       "      dtype='object')"
      ]
     },
     "execution_count": 38,
     "metadata": {},
     "output_type": "execute_result"
    }
   ],
   "source": [
    "df.columns"
   ]
  },
  {
   "cell_type": "markdown",
   "id": "ef36e188",
   "metadata": {},
   "source": [
    "### Data Cleaning"
   ]
  },
  {
   "cell_type": "code",
   "execution_count": 39,
   "id": "d6790f0f",
   "metadata": {
    "scrolled": true
   },
   "outputs": [
    {
     "name": "stdout",
     "output_type": "stream",
     "text": [
      "<class 'pandas.core.frame.DataFrame'>\n",
      "RangeIndex: 84548 entries, 0 to 84547\n",
      "Data columns (total 22 columns):\n",
      " #   Column                          Non-Null Count  Dtype  \n",
      "---  ------                          --------------  -----  \n",
      " 0   index                           84548 non-null  int64  \n",
      " 1   BOROUGH                         84548 non-null  int64  \n",
      " 2   NEIGHBORHOOD                    84548 non-null  object \n",
      " 3   BUILDING CLASS CATEGORY         84548 non-null  object \n",
      " 4   TAX CLASS AT PRESENT            84548 non-null  object \n",
      " 5   BLOCK                           84548 non-null  int64  \n",
      " 6   LOT                             84548 non-null  int64  \n",
      " 7   EASE-MENT                       84548 non-null  object \n",
      " 8   BUILDING CLASS AT PRESENT       84548 non-null  object \n",
      " 9   ADDRESS                         84548 non-null  object \n",
      " 10  APARTMENT NUMBER                84548 non-null  object \n",
      " 11  ZIP CODE                        84548 non-null  int64  \n",
      " 12  RESIDENTIAL UNITS               84548 non-null  int64  \n",
      " 13  COMMERCIAL UNITS                84548 non-null  int64  \n",
      " 14  TOTAL UNITS                     84548 non-null  int64  \n",
      " 15  LAND SQUARE FEET                84548 non-null  object \n",
      " 16  GROSS SQUARE FEET               84548 non-null  object \n",
      " 17  YEAR BUILT                      84548 non-null  int64  \n",
      " 18  TAX CLASS AT TIME OF SALE       84548 non-null  int64  \n",
      " 19  BUILDING CLASS AT TIME OF SALE  84548 non-null  object \n",
      " 20  SALE PRICE                      69987 non-null  float64\n",
      " 21  SALE DATE                       84548 non-null  object \n",
      "dtypes: float64(1), int64(10), object(11)\n",
      "memory usage: 14.2+ MB\n"
     ]
    }
   ],
   "source": [
    "df.info()"
   ]
  },
  {
   "cell_type": "code",
   "execution_count": 40,
   "id": "1214957f",
   "metadata": {},
   "outputs": [],
   "source": [
    "def numUnique(df):\n",
    "    return [(df[col].nunique(dropna=True), col)  for col in df.columns]"
   ]
  },
  {
   "cell_type": "code",
   "execution_count": 41,
   "id": "b5dc1121",
   "metadata": {
    "scrolled": true
   },
   "outputs": [
    {
     "data": {
      "text/plain": [
       "[(84548, 'index'),\n",
       " (5, 'BOROUGH'),\n",
       " (254, 'NEIGHBORHOOD'),\n",
       " (47, 'BUILDING CLASS CATEGORY'),\n",
       " (11, 'TAX CLASS AT PRESENT'),\n",
       " (11566, 'BLOCK'),\n",
       " (2627, 'LOT'),\n",
       " (1, 'EASE-MENT'),\n",
       " (167, 'BUILDING CLASS AT PRESENT'),\n",
       " (67563, 'ADDRESS'),\n",
       " (3989, 'APARTMENT NUMBER'),\n",
       " (186, 'ZIP CODE'),\n",
       " (176, 'RESIDENTIAL UNITS'),\n",
       " (55, 'COMMERCIAL UNITS'),\n",
       " (192, 'TOTAL UNITS'),\n",
       " (6062, 'LAND SQUARE FEET'),\n",
       " (5691, 'GROSS SQUARE FEET'),\n",
       " (158, 'YEAR BUILT'),\n",
       " (4, 'TAX CLASS AT TIME OF SALE'),\n",
       " (166, 'BUILDING CLASS AT TIME OF SALE'),\n",
       " (10007, 'SALE PRICE'),\n",
       " (364, 'SALE DATE')]"
      ]
     },
     "execution_count": 41,
     "metadata": {},
     "output_type": "execute_result"
    }
   ],
   "source": [
    "numUnique(df)"
   ]
  },
  {
   "cell_type": "markdown",
   "id": "e41a0f66",
   "metadata": {},
   "source": [
    "**As column \"EASEMENT\" has only 1 value. We can drop that**"
   ]
  },
  {
   "cell_type": "code",
   "execution_count": 42,
   "id": "2d7ea75b",
   "metadata": {
    "scrolled": true
   },
   "outputs": [
    {
     "data": {
      "text/plain": [
       "Index(['index', 'BOROUGH', 'NEIGHBORHOOD', 'BUILDING CLASS CATEGORY',\n",
       "       'TAX CLASS AT PRESENT', 'BLOCK', 'LOT', 'BUILDING CLASS AT PRESENT',\n",
       "       'ADDRESS', 'APARTMENT NUMBER', 'ZIP CODE', 'RESIDENTIAL UNITS',\n",
       "       'COMMERCIAL UNITS', 'TOTAL UNITS', 'LAND SQUARE FEET',\n",
       "       'GROSS SQUARE FEET', 'YEAR BUILT', 'TAX CLASS AT TIME OF SALE',\n",
       "       'BUILDING CLASS AT TIME OF SALE', 'SALE PRICE', 'SALE DATE'],\n",
       "      dtype='object')"
      ]
     },
     "execution_count": 42,
     "metadata": {},
     "output_type": "execute_result"
    }
   ],
   "source": [
    "df_eas_drop = df.drop(\"EASE-MENT\", axis=1)\n",
    "df_eas_drop.columns"
   ]
  },
  {
   "cell_type": "code",
   "execution_count": 43,
   "id": "12d2c8a1",
   "metadata": {
    "scrolled": true
   },
   "outputs": [
    {
     "name": "stdout",
     "output_type": "stream",
     "text": [
      "<class 'pandas.core.frame.DataFrame'>\n",
      "RangeIndex: 84548 entries, 0 to 84547\n",
      "Data columns (total 21 columns):\n",
      " #   Column                          Non-Null Count  Dtype  \n",
      "---  ------                          --------------  -----  \n",
      " 0   index                           84548 non-null  int64  \n",
      " 1   BOROUGH                         84548 non-null  int64  \n",
      " 2   NEIGHBORHOOD                    84548 non-null  object \n",
      " 3   BUILDING CLASS CATEGORY         84548 non-null  object \n",
      " 4   TAX CLASS AT PRESENT            84548 non-null  object \n",
      " 5   BLOCK                           84548 non-null  int64  \n",
      " 6   LOT                             84548 non-null  int64  \n",
      " 7   BUILDING CLASS AT PRESENT       84548 non-null  object \n",
      " 8   ADDRESS                         84548 non-null  object \n",
      " 9   APARTMENT NUMBER                84548 non-null  object \n",
      " 10  ZIP CODE                        84548 non-null  int64  \n",
      " 11  RESIDENTIAL UNITS               84548 non-null  int64  \n",
      " 12  COMMERCIAL UNITS                84548 non-null  int64  \n",
      " 13  TOTAL UNITS                     84548 non-null  int64  \n",
      " 14  LAND SQUARE FEET                84548 non-null  object \n",
      " 15  GROSS SQUARE FEET               84548 non-null  object \n",
      " 16  YEAR BUILT                      84548 non-null  int64  \n",
      " 17  TAX CLASS AT TIME OF SALE       84548 non-null  int64  \n",
      " 18  BUILDING CLASS AT TIME OF SALE  84548 non-null  object \n",
      " 19  SALE PRICE                      69987 non-null  float64\n",
      " 20  SALE DATE                       84548 non-null  object \n",
      "dtypes: float64(1), int64(10), object(10)\n",
      "memory usage: 13.5+ MB\n"
     ]
    }
   ],
   "source": [
    "df_eas_drop.info()"
   ]
  },
  {
   "cell_type": "markdown",
   "id": "533fa78d",
   "metadata": {},
   "source": [
    "Both are Object: LAND SQUARE FEET, GROSS SQUARE FEET \n",
    "But they should be numbers. Lets convert"
   ]
  },
  {
   "cell_type": "code",
   "execution_count": 44,
   "id": "c4470c3c",
   "metadata": {
    "scrolled": true
   },
   "outputs": [
    {
     "data": {
      "text/plain": [
       "(6062,\n",
       "  -        26252\n",
       " 0         10326\n",
       " 2000       3919\n",
       " 2500       3470\n",
       " 4000       3044\n",
       "           ...  \n",
       " 3771          1\n",
       " 12825         1\n",
       " 5233          1\n",
       " 753           1\n",
       " 168510        1\n",
       " Name: LAND SQUARE FEET, Length: 6062, dtype: int64)"
      ]
     },
     "execution_count": 44,
     "metadata": {},
     "output_type": "execute_result"
    }
   ],
   "source": [
    "df[\"LAND SQUARE FEET\"].nunique(dropna=True),df[\"LAND SQUARE FEET\"].value_counts()"
   ]
  },
  {
   "cell_type": "code",
   "execution_count": 45,
   "id": "ab5c0209",
   "metadata": {},
   "outputs": [
    {
     "data": {
      "text/plain": [
       "(5691,\n",
       "  -       27612\n",
       " 0        11417\n",
       " 2400       386\n",
       " 1800       361\n",
       " 2000       359\n",
       "          ...  \n",
       " 6248         1\n",
       " 4554         1\n",
       " 54792        1\n",
       " 10840        1\n",
       " 16125        1\n",
       " Name: GROSS SQUARE FEET, Length: 5691, dtype: int64)"
      ]
     },
     "execution_count": 45,
     "metadata": {},
     "output_type": "execute_result"
    }
   ],
   "source": [
    "df[\"GROSS SQUARE FEET\"].nunique(dropna=True),df[\"GROSS SQUARE FEET\"].value_counts()"
   ]
  },
  {
   "cell_type": "code",
   "execution_count": 64,
   "id": "07a27e8a",
   "metadata": {},
   "outputs": [
    {
     "data": {
      "text/html": [
       "<div>\n",
       "<style scoped>\n",
       "    .dataframe tbody tr th:only-of-type {\n",
       "        vertical-align: middle;\n",
       "    }\n",
       "\n",
       "    .dataframe tbody tr th {\n",
       "        vertical-align: top;\n",
       "    }\n",
       "\n",
       "    .dataframe thead th {\n",
       "        text-align: right;\n",
       "    }\n",
       "</style>\n",
       "<table border=\"1\" class=\"dataframe\">\n",
       "  <thead>\n",
       "    <tr style=\"text-align: right;\">\n",
       "      <th></th>\n",
       "    </tr>\n",
       "  </thead>\n",
       "  <tbody>\n",
       "  </tbody>\n",
       "</table>\n",
       "</div>"
      ],
      "text/plain": [
       "Empty DataFrame\n",
       "Columns: []\n",
       "Index: []"
      ]
     },
     "execution_count": 64,
     "metadata": {},
     "output_type": "execute_result"
    }
   ],
   "source": [
    "#How to create a blank dataframe\n",
    "df_test = pd.DataFrame()\n",
    "df_test"
   ]
  },
  {
   "cell_type": "code",
   "execution_count": 57,
   "id": "4d99735f",
   "metadata": {},
   "outputs": [
    {
     "data": {
      "text/html": [
       "<div>\n",
       "<style scoped>\n",
       "    .dataframe tbody tr th:only-of-type {\n",
       "        vertical-align: middle;\n",
       "    }\n",
       "\n",
       "    .dataframe tbody tr th {\n",
       "        vertical-align: top;\n",
       "    }\n",
       "\n",
       "    .dataframe thead th {\n",
       "        text-align: right;\n",
       "    }\n",
       "</style>\n",
       "<table border=\"1\" class=\"dataframe\">\n",
       "  <thead>\n",
       "    <tr style=\"text-align: right;\">\n",
       "      <th></th>\n",
       "      <th>Col 1</th>\n",
       "    </tr>\n",
       "  </thead>\n",
       "  <tbody>\n",
       "    <tr>\n",
       "      <th>0</th>\n",
       "      <td>1</td>\n",
       "    </tr>\n",
       "    <tr>\n",
       "      <th>1</th>\n",
       "      <td>2</td>\n",
       "    </tr>\n",
       "    <tr>\n",
       "      <th>2</th>\n",
       "      <td>3</td>\n",
       "    </tr>\n",
       "    <tr>\n",
       "      <th>3</th>\n",
       "      <td>4</td>\n",
       "    </tr>\n",
       "    <tr>\n",
       "      <th>4</th>\n",
       "      <td>5</td>\n",
       "    </tr>\n",
       "  </tbody>\n",
       "</table>\n",
       "</div>"
      ],
      "text/plain": [
       "   Col 1\n",
       "0      1\n",
       "1      2\n",
       "2      3\n",
       "3      4\n",
       "4      5"
      ]
     },
     "execution_count": 57,
     "metadata": {},
     "output_type": "execute_result"
    }
   ],
   "source": [
    "df_test[\"Col 1\"] = [1,2,3,4,5]\n",
    "df_test"
   ]
  },
  {
   "cell_type": "code",
   "execution_count": 62,
   "id": "77a28ab9",
   "metadata": {},
   "outputs": [],
   "source": [
    "def NanOrNot1(x):\n",
    "    if re.match('(\\d)+', x.strip()):\n",
    "        return int(x.strip())\n",
    "    else:\n",
    "        np.nan\n",
    "def convertObjectColumnsToNum(df, cols):\n",
    "    df_ret = pd.DataFrame()\n",
    "    for col in cols:\n",
    "        df_ret[col] = df[col].apply(NanOrNot1)\n",
    "    return df_ret\n",
    "\n",
    "    "
   ]
  },
  {
   "cell_type": "code",
   "execution_count": 63,
   "id": "bb0d17bb",
   "metadata": {},
   "outputs": [
    {
     "name": "stdout",
     "output_type": "stream",
     "text": [
      "<class 'pandas.core.frame.DataFrame'>\n",
      "RangeIndex: 84548 entries, 0 to 84547\n",
      "Data columns (total 2 columns):\n",
      " #   Column             Non-Null Count  Dtype  \n",
      "---  ------             --------------  -----  \n",
      " 0   LAND SQUARE FEET   58296 non-null  float64\n",
      " 1   GROSS SQUARE FEET  56936 non-null  float64\n",
      "dtypes: float64(2)\n",
      "memory usage: 1.3 MB\n"
     ]
    }
   ],
   "source": [
    "convertObjectColumnsToNum(df, [\"LAND SQUARE FEET\",\"GROSS SQUARE FEET\"]).info()"
   ]
  },
  {
   "cell_type": "code",
   "execution_count": 65,
   "id": "636b3807",
   "metadata": {
    "scrolled": true
   },
   "outputs": [
    {
     "name": "stdout",
     "output_type": "stream",
     "text": [
      "<class 'pandas.core.frame.DataFrame'>\n",
      "RangeIndex: 84548 entries, 0 to 84547\n",
      "Data columns (total 21 columns):\n",
      " #   Column                          Non-Null Count  Dtype  \n",
      "---  ------                          --------------  -----  \n",
      " 0   index                           84548 non-null  int64  \n",
      " 1   BOROUGH                         84548 non-null  int64  \n",
      " 2   NEIGHBORHOOD                    84548 non-null  object \n",
      " 3   BUILDING CLASS CATEGORY         84548 non-null  object \n",
      " 4   TAX CLASS AT PRESENT            84548 non-null  object \n",
      " 5   BLOCK                           84548 non-null  int64  \n",
      " 6   LOT                             84548 non-null  int64  \n",
      " 7   BUILDING CLASS AT PRESENT       84548 non-null  object \n",
      " 8   ADDRESS                         84548 non-null  object \n",
      " 9   APARTMENT NUMBER                84548 non-null  object \n",
      " 10  ZIP CODE                        84548 non-null  int64  \n",
      " 11  RESIDENTIAL UNITS               84548 non-null  int64  \n",
      " 12  COMMERCIAL UNITS                84548 non-null  int64  \n",
      " 13  TOTAL UNITS                     84548 non-null  int64  \n",
      " 14  LAND SQUARE FEET                58296 non-null  float64\n",
      " 15  GROSS SQUARE FEET               56936 non-null  float64\n",
      " 16  YEAR BUILT                      84548 non-null  int64  \n",
      " 17  TAX CLASS AT TIME OF SALE       84548 non-null  int64  \n",
      " 18  BUILDING CLASS AT TIME OF SALE  84548 non-null  object \n",
      " 19  SALE PRICE                      69987 non-null  float64\n",
      " 20  SALE DATE                       84548 non-null  object \n",
      "dtypes: float64(3), int64(10), object(8)\n",
      "memory usage: 13.5+ MB\n"
     ]
    }
   ],
   "source": [
    "df_eas_drop[[\"LAND SQUARE FEET\",\"GROSS SQUARE FEET\"]] = convertObjectColumnsToNum(df, [\"LAND SQUARE FEET\",\"GROSS SQUARE FEET\"])\n",
    "df_eas_drop.info()"
   ]
  },
  {
   "cell_type": "markdown",
   "id": "1efd56a9",
   "metadata": {},
   "source": [
    "**SALE_PRICE, LAND SQUARE FEET, GROSS SQUARE FEET has lot of NAN values: We will replace them by medians**"
   ]
  },
  {
   "cell_type": "markdown",
   "id": "0e596a9e",
   "metadata": {},
   "source": [
    "- One way to do that"
   ]
  },
  {
   "cell_type": "code",
   "execution_count": 68,
   "id": "8a25d994",
   "metadata": {},
   "outputs": [
    {
     "ename": "AttributeError",
     "evalue": "'Series' object has no attribute 'info'",
     "output_type": "error",
     "traceback": [
      "\u001b[1;31m---------------------------------------------------------------------------\u001b[0m",
      "\u001b[1;31mAttributeError\u001b[0m                            Traceback (most recent call last)",
      "\u001b[1;32m<ipython-input-68-b69f437ab007>\u001b[0m in \u001b[0;36m<module>\u001b[1;34m\u001b[0m\n\u001b[0;32m      1\u001b[0m \u001b[0mmedian_sal_price\u001b[0m \u001b[1;33m=\u001b[0m \u001b[0mdf_eas_drop\u001b[0m\u001b[1;33m[\u001b[0m\u001b[1;34m\"SALE PRICE\"\u001b[0m\u001b[1;33m]\u001b[0m\u001b[1;33m.\u001b[0m\u001b[0mmedian\u001b[0m\u001b[1;33m(\u001b[0m\u001b[1;33m)\u001b[0m\u001b[1;33m\u001b[0m\u001b[1;33m\u001b[0m\u001b[0m\n\u001b[0;32m      2\u001b[0m \u001b[0mdf_eas_drop\u001b[0m\u001b[1;33m[\u001b[0m\u001b[1;34m\"SALE PRICE\"\u001b[0m\u001b[1;33m]\u001b[0m\u001b[1;33m.\u001b[0m\u001b[0mfillna\u001b[0m\u001b[1;33m(\u001b[0m\u001b[0mmedian_sal_price\u001b[0m\u001b[1;33m,\u001b[0m \u001b[0minplace\u001b[0m\u001b[1;33m=\u001b[0m\u001b[1;32mTrue\u001b[0m\u001b[1;33m)\u001b[0m\u001b[1;33m\u001b[0m\u001b[1;33m\u001b[0m\u001b[0m\n\u001b[1;32m----> 3\u001b[1;33m \u001b[0mdf_eas_drop\u001b[0m\u001b[1;33m[\u001b[0m\u001b[1;34m\"SALE PRICE\"\u001b[0m\u001b[1;33m]\u001b[0m\u001b[1;33m.\u001b[0m\u001b[0minfo\u001b[0m\u001b[1;33m(\u001b[0m\u001b[1;33m)\u001b[0m\u001b[1;33m\u001b[0m\u001b[1;33m\u001b[0m\u001b[0m\n\u001b[0m",
      "\u001b[1;32mD:\\Programming\\ML\\handson-ml2\\env\\lib\\site-packages\\pandas\\core\\generic.py\u001b[0m in \u001b[0;36m__getattr__\u001b[1;34m(self, name)\u001b[0m\n\u001b[0;32m   5463\u001b[0m             \u001b[1;32mif\u001b[0m \u001b[0mself\u001b[0m\u001b[1;33m.\u001b[0m\u001b[0m_info_axis\u001b[0m\u001b[1;33m.\u001b[0m\u001b[0m_can_hold_identifiers_and_holds_name\u001b[0m\u001b[1;33m(\u001b[0m\u001b[0mname\u001b[0m\u001b[1;33m)\u001b[0m\u001b[1;33m:\u001b[0m\u001b[1;33m\u001b[0m\u001b[1;33m\u001b[0m\u001b[0m\n\u001b[0;32m   5464\u001b[0m                 \u001b[1;32mreturn\u001b[0m \u001b[0mself\u001b[0m\u001b[1;33m[\u001b[0m\u001b[0mname\u001b[0m\u001b[1;33m]\u001b[0m\u001b[1;33m\u001b[0m\u001b[1;33m\u001b[0m\u001b[0m\n\u001b[1;32m-> 5465\u001b[1;33m             \u001b[1;32mreturn\u001b[0m \u001b[0mobject\u001b[0m\u001b[1;33m.\u001b[0m\u001b[0m__getattribute__\u001b[0m\u001b[1;33m(\u001b[0m\u001b[0mself\u001b[0m\u001b[1;33m,\u001b[0m \u001b[0mname\u001b[0m\u001b[1;33m)\u001b[0m\u001b[1;33m\u001b[0m\u001b[1;33m\u001b[0m\u001b[0m\n\u001b[0m\u001b[0;32m   5466\u001b[0m \u001b[1;33m\u001b[0m\u001b[0m\n\u001b[0;32m   5467\u001b[0m     \u001b[1;32mdef\u001b[0m \u001b[0m__setattr__\u001b[0m\u001b[1;33m(\u001b[0m\u001b[0mself\u001b[0m\u001b[1;33m,\u001b[0m \u001b[0mname\u001b[0m\u001b[1;33m:\u001b[0m \u001b[0mstr\u001b[0m\u001b[1;33m,\u001b[0m \u001b[0mvalue\u001b[0m\u001b[1;33m)\u001b[0m \u001b[1;33m->\u001b[0m \u001b[1;32mNone\u001b[0m\u001b[1;33m:\u001b[0m\u001b[1;33m\u001b[0m\u001b[1;33m\u001b[0m\u001b[0m\n",
      "\u001b[1;31mAttributeError\u001b[0m: 'Series' object has no attribute 'info'"
     ]
    }
   ],
   "source": [
    "median_sal_price = df_eas_drop[\"SALE PRICE\"].median()\n",
    "df_eas_drop[\"SALE PRICE\"].fillna(median_sal_price, inplace=True)\n"
   ]
  },
  {
   "cell_type": "code",
   "execution_count": 70,
   "id": "fd608296",
   "metadata": {},
   "outputs": [
    {
     "name": "stdout",
     "output_type": "stream",
     "text": [
      "<class 'pandas.core.frame.DataFrame'>\n",
      "RangeIndex: 84548 entries, 0 to 84547\n",
      "Data columns (total 21 columns):\n",
      " #   Column                          Non-Null Count  Dtype  \n",
      "---  ------                          --------------  -----  \n",
      " 0   index                           84548 non-null  int64  \n",
      " 1   BOROUGH                         84548 non-null  int64  \n",
      " 2   NEIGHBORHOOD                    84548 non-null  object \n",
      " 3   BUILDING CLASS CATEGORY         84548 non-null  object \n",
      " 4   TAX CLASS AT PRESENT            84548 non-null  object \n",
      " 5   BLOCK                           84548 non-null  int64  \n",
      " 6   LOT                             84548 non-null  int64  \n",
      " 7   BUILDING CLASS AT PRESENT       84548 non-null  object \n",
      " 8   ADDRESS                         84548 non-null  object \n",
      " 9   APARTMENT NUMBER                84548 non-null  object \n",
      " 10  ZIP CODE                        84548 non-null  int64  \n",
      " 11  RESIDENTIAL UNITS               84548 non-null  int64  \n",
      " 12  COMMERCIAL UNITS                84548 non-null  int64  \n",
      " 13  TOTAL UNITS                     84548 non-null  int64  \n",
      " 14  LAND SQUARE FEET                58296 non-null  float64\n",
      " 15  GROSS SQUARE FEET               56936 non-null  float64\n",
      " 16  YEAR BUILT                      84548 non-null  int64  \n",
      " 17  TAX CLASS AT TIME OF SALE       84548 non-null  int64  \n",
      " 18  BUILDING CLASS AT TIME OF SALE  84548 non-null  object \n",
      " 19  SALE PRICE                      84548 non-null  float64\n",
      " 20  SALE DATE                       84548 non-null  object \n",
      "dtypes: float64(3), int64(10), object(8)\n",
      "memory usage: 13.5+ MB\n"
     ]
    }
   ],
   "source": [
    "df_eas_drop.info()\n",
    "# See sale price is all not null"
   ]
  },
  {
   "cell_type": "markdown",
   "id": "1f70b7f8",
   "metadata": {},
   "source": [
    "- Way 2\n",
    "\n",
    "sklearn also provides an option which does the same for all the columns"
   ]
  },
  {
   "cell_type": "code",
   "execution_count": 71,
   "id": "fb6ebba9",
   "metadata": {},
   "outputs": [
    {
     "data": {
      "text/plain": [
       "SimpleImputer(strategy='median')"
      ]
     },
     "execution_count": 71,
     "metadata": {},
     "output_type": "execute_result"
    }
   ],
   "source": [
    "from sklearn.impute import SimpleImputer\n",
    "imputer = SimpleImputer(strategy=\"median\")\n",
    "\n",
    "#Above workks for numbers column only so pass a dataframe with no text columns\n",
    "df_eas_drop_num = df_eas_drop.drop([\"NEIGHBORHOOD\",\"BUILDING CLASS CATEGORY\",\"TAX CLASS AT PRESENT\",\"BUILDING CLASS AT PRESENT\",\"ADDRESS\",\"APARTMENT NUMBER\",\"BUILDING CLASS AT TIME OF SALE\",\"SALE DATE\"], axis=1)\n",
    "imputer.fit(df_eas_drop_num)\n",
    "\n"
   ]
  },
  {
   "cell_type": "code",
   "execution_count": 72,
   "id": "7db7c9b0",
   "metadata": {},
   "outputs": [
    {
     "data": {
      "text/plain": [
       "array([4.22735e+04, 3.00000e+00, 3.31100e+03, 5.00000e+01, 1.12090e+04,\n",
       "       1.00000e+00, 0.00000e+00, 1.00000e+00, 2.32500e+03, 1.68000e+03,\n",
       "       1.94000e+03, 2.00000e+00, 5.30000e+05])"
      ]
     },
     "execution_count": 72,
     "metadata": {},
     "output_type": "execute_result"
    }
   ],
   "source": [
    "imputer.statistics_"
   ]
  },
  {
   "cell_type": "code",
   "execution_count": 75,
   "id": "42d6a196",
   "metadata": {},
   "outputs": [
    {
     "data": {
      "text/plain": [
       "array([4.22735e+04, 3.00000e+00, 3.31100e+03, 5.00000e+01, 1.12090e+04,\n",
       "       1.00000e+00, 0.00000e+00, 1.00000e+00, 2.32500e+03, 1.68000e+03,\n",
       "       1.94000e+03, 2.00000e+00, 5.30000e+05])"
      ]
     },
     "execution_count": 75,
     "metadata": {},
     "output_type": "execute_result"
    }
   ],
   "source": [
    "df_eas_drop_num.median().values"
   ]
  },
  {
   "cell_type": "code",
   "execution_count": 73,
   "id": "6a6b56d7",
   "metadata": {},
   "outputs": [
    {
     "data": {
      "text/plain": [
       "Index(['index', 'BOROUGH', 'BLOCK', 'LOT', 'ZIP CODE', 'RESIDENTIAL UNITS',\n",
       "       'COMMERCIAL UNITS', 'TOTAL UNITS', 'LAND SQUARE FEET',\n",
       "       'GROSS SQUARE FEET', 'YEAR BUILT', 'TAX CLASS AT TIME OF SALE',\n",
       "       'SALE PRICE'],\n",
       "      dtype='object')"
      ]
     },
     "execution_count": 73,
     "metadata": {},
     "output_type": "execute_result"
    }
   ],
   "source": [
    "df_eas_drop_num.columns"
   ]
  },
  {
   "cell_type": "code",
   "execution_count": 76,
   "id": "8a2d3e70",
   "metadata": {},
   "outputs": [],
   "source": [
    "x = imputer.transform(df_eas_drop_num)"
   ]
  },
  {
   "cell_type": "code",
   "execution_count": 79,
   "id": "ff35098d",
   "metadata": {},
   "outputs": [],
   "source": [
    "df_eas_drop_num_tr = pd.DataFrame(x, columns=df_eas_drop_num.columns)"
   ]
  },
  {
   "cell_type": "code",
   "execution_count": 82,
   "id": "837134da",
   "metadata": {},
   "outputs": [
    {
     "name": "stdout",
     "output_type": "stream",
     "text": [
      "<class 'pandas.core.frame.DataFrame'>\n",
      "RangeIndex: 84548 entries, 0 to 84547\n",
      "Data columns (total 13 columns):\n",
      " #   Column                     Non-Null Count  Dtype  \n",
      "---  ------                     --------------  -----  \n",
      " 0   index                      84548 non-null  float64\n",
      " 1   BOROUGH                    84548 non-null  float64\n",
      " 2   BLOCK                      84548 non-null  float64\n",
      " 3   LOT                        84548 non-null  float64\n",
      " 4   ZIP CODE                   84548 non-null  float64\n",
      " 5   RESIDENTIAL UNITS          84548 non-null  float64\n",
      " 6   COMMERCIAL UNITS           84548 non-null  float64\n",
      " 7   TOTAL UNITS                84548 non-null  float64\n",
      " 8   LAND SQUARE FEET           84548 non-null  float64\n",
      " 9   GROSS SQUARE FEET          84548 non-null  float64\n",
      " 10  YEAR BUILT                 84548 non-null  float64\n",
      " 11  TAX CLASS AT TIME OF SALE  84548 non-null  float64\n",
      " 12  SALE PRICE                 84548 non-null  float64\n",
      "dtypes: float64(13)\n",
      "memory usage: 8.4 MB\n"
     ]
    }
   ],
   "source": [
    "df_eas_drop_num_tr.info()"
   ]
  },
  {
   "cell_type": "code",
   "execution_count": 81,
   "id": "df7b5ae1",
   "metadata": {
    "scrolled": true
   },
   "outputs": [
    {
     "data": {
      "text/html": [
       "<div>\n",
       "<style scoped>\n",
       "    .dataframe tbody tr th:only-of-type {\n",
       "        vertical-align: middle;\n",
       "    }\n",
       "\n",
       "    .dataframe tbody tr th {\n",
       "        vertical-align: top;\n",
       "    }\n",
       "\n",
       "    .dataframe thead th {\n",
       "        text-align: right;\n",
       "    }\n",
       "</style>\n",
       "<table border=\"1\" class=\"dataframe\">\n",
       "  <thead>\n",
       "    <tr style=\"text-align: right;\">\n",
       "      <th></th>\n",
       "      <th>index</th>\n",
       "      <th>BOROUGH</th>\n",
       "      <th>BLOCK</th>\n",
       "      <th>LOT</th>\n",
       "      <th>ZIP CODE</th>\n",
       "      <th>RESIDENTIAL UNITS</th>\n",
       "      <th>COMMERCIAL UNITS</th>\n",
       "      <th>TOTAL UNITS</th>\n",
       "      <th>LAND SQUARE FEET</th>\n",
       "      <th>GROSS SQUARE FEET</th>\n",
       "      <th>YEAR BUILT</th>\n",
       "      <th>TAX CLASS AT TIME OF SALE</th>\n",
       "      <th>SALE PRICE</th>\n",
       "    </tr>\n",
       "  </thead>\n",
       "  <tbody>\n",
       "    <tr>\n",
       "      <th>0</th>\n",
       "      <td>0.0</td>\n",
       "      <td>1.0</td>\n",
       "      <td>392.0</td>\n",
       "      <td>6.0</td>\n",
       "      <td>10009.0</td>\n",
       "      <td>5.0</td>\n",
       "      <td>0.0</td>\n",
       "      <td>5.0</td>\n",
       "      <td>1633.0</td>\n",
       "      <td>6440.0</td>\n",
       "      <td>1900.0</td>\n",
       "      <td>2.0</td>\n",
       "      <td>6625000.0</td>\n",
       "    </tr>\n",
       "    <tr>\n",
       "      <th>1</th>\n",
       "      <td>1.0</td>\n",
       "      <td>1.0</td>\n",
       "      <td>399.0</td>\n",
       "      <td>26.0</td>\n",
       "      <td>10009.0</td>\n",
       "      <td>28.0</td>\n",
       "      <td>3.0</td>\n",
       "      <td>31.0</td>\n",
       "      <td>4616.0</td>\n",
       "      <td>18690.0</td>\n",
       "      <td>1900.0</td>\n",
       "      <td>2.0</td>\n",
       "      <td>530000.0</td>\n",
       "    </tr>\n",
       "    <tr>\n",
       "      <th>2</th>\n",
       "      <td>2.0</td>\n",
       "      <td>1.0</td>\n",
       "      <td>399.0</td>\n",
       "      <td>39.0</td>\n",
       "      <td>10009.0</td>\n",
       "      <td>16.0</td>\n",
       "      <td>1.0</td>\n",
       "      <td>17.0</td>\n",
       "      <td>2212.0</td>\n",
       "      <td>7803.0</td>\n",
       "      <td>1900.0</td>\n",
       "      <td>2.0</td>\n",
       "      <td>530000.0</td>\n",
       "    </tr>\n",
       "    <tr>\n",
       "      <th>3</th>\n",
       "      <td>3.0</td>\n",
       "      <td>1.0</td>\n",
       "      <td>402.0</td>\n",
       "      <td>21.0</td>\n",
       "      <td>10009.0</td>\n",
       "      <td>10.0</td>\n",
       "      <td>0.0</td>\n",
       "      <td>10.0</td>\n",
       "      <td>2272.0</td>\n",
       "      <td>6794.0</td>\n",
       "      <td>1913.0</td>\n",
       "      <td>2.0</td>\n",
       "      <td>3936272.0</td>\n",
       "    </tr>\n",
       "    <tr>\n",
       "      <th>4</th>\n",
       "      <td>4.0</td>\n",
       "      <td>1.0</td>\n",
       "      <td>404.0</td>\n",
       "      <td>55.0</td>\n",
       "      <td>10009.0</td>\n",
       "      <td>6.0</td>\n",
       "      <td>0.0</td>\n",
       "      <td>6.0</td>\n",
       "      <td>2369.0</td>\n",
       "      <td>4615.0</td>\n",
       "      <td>1900.0</td>\n",
       "      <td>2.0</td>\n",
       "      <td>8000000.0</td>\n",
       "    </tr>\n",
       "  </tbody>\n",
       "</table>\n",
       "</div>"
      ],
      "text/plain": [
       "   index  BOROUGH  BLOCK   LOT  ZIP CODE  RESIDENTIAL UNITS  COMMERCIAL UNITS  \\\n",
       "0    0.0      1.0  392.0   6.0   10009.0                5.0               0.0   \n",
       "1    1.0      1.0  399.0  26.0   10009.0               28.0               3.0   \n",
       "2    2.0      1.0  399.0  39.0   10009.0               16.0               1.0   \n",
       "3    3.0      1.0  402.0  21.0   10009.0               10.0               0.0   \n",
       "4    4.0      1.0  404.0  55.0   10009.0                6.0               0.0   \n",
       "\n",
       "   TOTAL UNITS  LAND SQUARE FEET  GROSS SQUARE FEET  YEAR BUILT  \\\n",
       "0          5.0            1633.0             6440.0      1900.0   \n",
       "1         31.0            4616.0            18690.0      1900.0   \n",
       "2         17.0            2212.0             7803.0      1900.0   \n",
       "3         10.0            2272.0             6794.0      1913.0   \n",
       "4          6.0            2369.0             4615.0      1900.0   \n",
       "\n",
       "   TAX CLASS AT TIME OF SALE  SALE PRICE  \n",
       "0                        2.0   6625000.0  \n",
       "1                        2.0    530000.0  \n",
       "2                        2.0    530000.0  \n",
       "3                        2.0   3936272.0  \n",
       "4                        2.0   8000000.0  "
      ]
     },
     "execution_count": 81,
     "metadata": {},
     "output_type": "execute_result"
    }
   ],
   "source": [
    "df_eas_drop_num_tr.head()"
   ]
  },
  {
   "cell_type": "code",
   "execution_count": 83,
   "id": "89ad1984",
   "metadata": {},
   "outputs": [],
   "source": [
    "df_eas_drop_copy = df_eas_drop.copy()"
   ]
  },
  {
   "cell_type": "code",
   "execution_count": 84,
   "id": "4a5da47d",
   "metadata": {},
   "outputs": [],
   "source": [
    "df_eas_drop_copy[df_eas_drop_num.columns] = df_eas_drop_num_tr"
   ]
  },
  {
   "cell_type": "code",
   "execution_count": 86,
   "id": "ce5a17d5",
   "metadata": {},
   "outputs": [
    {
     "name": "stdout",
     "output_type": "stream",
     "text": [
      "<class 'pandas.core.frame.DataFrame'>\n",
      "RangeIndex: 84548 entries, 0 to 84547\n",
      "Data columns (total 21 columns):\n",
      " #   Column                          Non-Null Count  Dtype  \n",
      "---  ------                          --------------  -----  \n",
      " 0   index                           84548 non-null  float64\n",
      " 1   BOROUGH                         84548 non-null  float64\n",
      " 2   NEIGHBORHOOD                    84548 non-null  object \n",
      " 3   BUILDING CLASS CATEGORY         84548 non-null  object \n",
      " 4   TAX CLASS AT PRESENT            84548 non-null  object \n",
      " 5   BLOCK                           84548 non-null  float64\n",
      " 6   LOT                             84548 non-null  float64\n",
      " 7   BUILDING CLASS AT PRESENT       84548 non-null  object \n",
      " 8   ADDRESS                         84548 non-null  object \n",
      " 9   APARTMENT NUMBER                84548 non-null  object \n",
      " 10  ZIP CODE                        84548 non-null  float64\n",
      " 11  RESIDENTIAL UNITS               84548 non-null  float64\n",
      " 12  COMMERCIAL UNITS                84548 non-null  float64\n",
      " 13  TOTAL UNITS                     84548 non-null  float64\n",
      " 14  LAND SQUARE FEET                84548 non-null  float64\n",
      " 15  GROSS SQUARE FEET               84548 non-null  float64\n",
      " 16  YEAR BUILT                      84548 non-null  float64\n",
      " 17  TAX CLASS AT TIME OF SALE       84548 non-null  float64\n",
      " 18  BUILDING CLASS AT TIME OF SALE  84548 non-null  object \n",
      " 19  SALE PRICE                      84548 non-null  float64\n",
      " 20  SALE DATE                       84548 non-null  object \n",
      "dtypes: float64(13), object(8)\n",
      "memory usage: 13.5+ MB\n"
     ]
    }
   ],
   "source": [
    "#No null values: Yes\n",
    "df_eas_drop_copy.info()"
   ]
  },
  {
   "cell_type": "code",
   "execution_count": 87,
   "id": "d3d19446",
   "metadata": {},
   "outputs": [
    {
     "name": "stdout",
     "output_type": "stream",
     "text": [
      "<class 'pandas.core.frame.DataFrame'>\n",
      "RangeIndex: 84548 entries, 0 to 84547\n",
      "Data columns (total 21 columns):\n",
      " #   Column                          Non-Null Count  Dtype  \n",
      "---  ------                          --------------  -----  \n",
      " 0   index                           84548 non-null  float64\n",
      " 1   BOROUGH                         84548 non-null  float64\n",
      " 2   NEIGHBORHOOD                    84548 non-null  object \n",
      " 3   BUILDING CLASS CATEGORY         84548 non-null  object \n",
      " 4   TAX CLASS AT PRESENT            84548 non-null  object \n",
      " 5   BLOCK                           84548 non-null  float64\n",
      " 6   LOT                             84548 non-null  float64\n",
      " 7   BUILDING CLASS AT PRESENT       84548 non-null  object \n",
      " 8   ADDRESS                         84548 non-null  object \n",
      " 9   APARTMENT NUMBER                84548 non-null  object \n",
      " 10  ZIP CODE                        84548 non-null  float64\n",
      " 11  RESIDENTIAL UNITS               84548 non-null  float64\n",
      " 12  COMMERCIAL UNITS                84548 non-null  float64\n",
      " 13  TOTAL UNITS                     84548 non-null  float64\n",
      " 14  LAND SQUARE FEET                84548 non-null  float64\n",
      " 15  GROSS SQUARE FEET               84548 non-null  float64\n",
      " 16  YEAR BUILT                      84548 non-null  float64\n",
      " 17  TAX CLASS AT TIME OF SALE       84548 non-null  float64\n",
      " 18  BUILDING CLASS AT TIME OF SALE  84548 non-null  object \n",
      " 19  SALE PRICE                      84548 non-null  float64\n",
      " 20  SALE DATE                       84548 non-null  object \n",
      "dtypes: float64(13), object(8)\n",
      "memory usage: 13.5+ MB\n"
     ]
    }
   ],
   "source": [
    "df_eas_drop = df_eas_drop_copy.copy()\n",
    "df_eas_drop.info()"
   ]
  },
  {
   "cell_type": "markdown",
   "id": "9ceb9988",
   "metadata": {},
   "source": [
    "**Till now the number columns cleaning has been doe: Now  lets move to Text and Categorical columns**"
   ]
  },
  {
   "cell_type": "markdown",
   "id": "32d1bacd",
   "metadata": {},
   "source": [
    "**Next read: Scikit-Learn Design**"
   ]
  }
 ],
 "metadata": {
  "kernelspec": {
   "display_name": "Python 3",
   "language": "python",
   "name": "python3"
  },
  "language_info": {
   "codemirror_mode": {
    "name": "ipython",
    "version": 3
   },
   "file_extension": ".py",
   "mimetype": "text/x-python",
   "name": "python",
   "nbconvert_exporter": "python",
   "pygments_lexer": "ipython3",
   "version": "3.9.4"
  }
 },
 "nbformat": 4,
 "nbformat_minor": 5
}
